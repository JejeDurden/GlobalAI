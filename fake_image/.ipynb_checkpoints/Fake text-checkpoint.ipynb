{
 "cells": [
  {
   "cell_type": "markdown",
   "metadata": {},
   "source": [
    "# Fake Text"
   ]
  },
  {
   "cell_type": "markdown",
   "metadata": {},
   "source": [
    "- ### Imports"
   ]
  },
  {
   "cell_type": "code",
   "execution_count": 1,
   "metadata": {
    "collapsed": false
   },
   "outputs": [
    {
     "name": "stderr",
     "output_type": "stream",
     "text": [
      "/home/paul/anaconda2/lib/python2.7/site-packages/sklearn/cross_validation.py:44: DeprecationWarning: This module was deprecated in version 0.18 in favor of the model_selection module into which all the refactored classes and functions are moved. Also note that the interface of the new CV iterators are different from that of this module. This module will be removed in 0.20.\n",
      "  \"This module will be removed in 0.20.\", DeprecationWarning)\n"
     ]
    }
   ],
   "source": [
    "import nltk\n",
    "import os\n",
    "import pandas as pd\n",
    "import csv\n",
    "import numpy as np\n",
    "import codecs\n",
    "import re\n",
    "import collections\n",
    "from sklearn.naive_bayes import MultinomialNB\n",
    "from sklearn.feature_extraction.text import CountVectorizer\n",
    "from sklearn import metrics\n",
    "from sklearn.feature_extraction import DictVectorizer\n",
    "from nltk.corpus import stopwords\n",
    "import string\n",
    "from sklearn.feature_extraction.text import TfidfVectorizer\n",
    "from nltk.stem.porter import PorterStemmer\n",
    "from collections import Counter\n",
    "from nltk.tokenize import punkt\n",
    "from nltk.tokenize import word_tokenize\n",
    "from nltk.tokenize import sent_tokenize\n",
    "from sklearn.feature_extraction.text import TfidfVectorizer\n",
    "from sklearn import feature_extraction\n",
    "from sklearn import preprocessing\n",
    "\n",
    "from unidecode import unidecode\n",
    "import unicodedata\n",
    "\n",
    "from nltk.tokenize import sent_tokenize\n",
    "import string\n",
    "from nltk.stem.snowball import FrenchStemmer\n",
    "from nltk.stem.snowball import SnowballStemmer\n",
    "from nltk.corpus import stopwords\n",
    "from nltk.tokenize.texttiling import TextTilingTokenizer\n",
    "from nltk.collocations import *\n",
    "import unicodedata\n",
    "from nltk.stem import WordNetLemmatizer\n",
    "\n",
    "from sklearn.feature_extraction.text import TfidfVectorizer\n",
    "from __future__ import print_function\n",
    "\n",
    "import logging\n",
    "import numpy as np\n",
    "from optparse import OptionParser\n",
    "import sys\n",
    "from time import time\n",
    "import matplotlib.pyplot as plt\n",
    "\n",
    "\n",
    "from sklearn.feature_extraction.text import HashingVectorizer\n",
    "from sklearn.feature_selection import SelectKBest, chi2\n",
    "from sklearn.linear_model import RidgeClassifier\n",
    "from sklearn.pipeline import Pipeline\n",
    "from sklearn.svm import LinearSVC\n",
    "from sklearn.linear_model import SGDClassifier\n",
    "from sklearn.linear_model import Perceptron\n",
    "from sklearn.linear_model import PassiveAggressiveClassifier\n",
    "from sklearn.naive_bayes import BernoulliNB, MultinomialNB\n",
    "from sklearn.neighbors import KNeighborsClassifier\n",
    "from sklearn.neighbors import NearestCentroid\n",
    "from sklearn.ensemble import RandomForestClassifier\n",
    "from sklearn.utils.extmath import density\n",
    "from sklearn import metrics\n",
    "from sklearn.cross_validation import train_test_split\n",
    "import xgboost as xgb"
   ]
  },
  {
   "cell_type": "code",
   "execution_count": 2,
   "metadata": {
    "collapsed": false
   },
   "outputs": [
    {
     "name": "stdout",
     "output_type": "stream",
     "text": [
      "Types and counts of stories type\n",
      "bias            443\n",
      "bs            11492\n",
      "conspiracy      430\n",
      "fake             19\n",
      "hate            246\n",
      "junksci         102\n",
      "satire          146\n",
      "state           121\n",
      "dtype: int64\n"
     ]
    }
   ],
   "source": [
    "#load data\n",
    "all_news = pd.read_csv(\"data/fake.csv\",sep=\",\")\n",
    "print(\"Types and counts of stories\", all_news.groupby([\"type\"]).size())"
   ]
  },
  {
   "cell_type": "code",
   "execution_count": 15,
   "metadata": {
    "collapsed": false
   },
   "outputs": [
    {
     "data": {
      "text/html": [
       "<div>\n",
       "<table border=\"1\" class=\"dataframe\">\n",
       "  <thead>\n",
       "    <tr style=\"text-align: right;\">\n",
       "      <th></th>\n",
       "      <th>aazeazeount_id</th>\n",
       "      <th>post_id</th>\n",
       "      <th>Category</th>\n",
       "      <th>Page</th>\n",
       "      <th>Post URL</th>\n",
       "      <th>Date Published</th>\n",
       "      <th>Post Type</th>\n",
       "      <th>Rating</th>\n",
       "      <th>Debate</th>\n",
       "      <th>share_count</th>\n",
       "      <th>reaction_count</th>\n",
       "      <th>comment_count</th>\n",
       "    </tr>\n",
       "  </thead>\n",
       "  <tbody>\n",
       "    <tr>\n",
       "      <th>0</th>\n",
       "      <td>184096565021911</td>\n",
       "      <td>1035057923259100</td>\n",
       "      <td>mainstream</td>\n",
       "      <td>ABC News Politics</td>\n",
       "      <td>https://www.facebook.com/ABCNewsPolitics/posts...</td>\n",
       "      <td>2016-09-19</td>\n",
       "      <td>video</td>\n",
       "      <td>no factual content</td>\n",
       "      <td>NaN</td>\n",
       "      <td>NaN</td>\n",
       "      <td>146.0</td>\n",
       "      <td>15.0</td>\n",
       "    </tr>\n",
       "    <tr>\n",
       "      <th>1</th>\n",
       "      <td>184096565021911</td>\n",
       "      <td>1035269309904628</td>\n",
       "      <td>mainstream</td>\n",
       "      <td>ABC News Politics</td>\n",
       "      <td>https://www.facebook.com/ABCNewsPolitics/posts...</td>\n",
       "      <td>2016-09-19</td>\n",
       "      <td>link</td>\n",
       "      <td>mostly true</td>\n",
       "      <td>NaN</td>\n",
       "      <td>1.0</td>\n",
       "      <td>33.0</td>\n",
       "      <td>34.0</td>\n",
       "    </tr>\n",
       "    <tr>\n",
       "      <th>2</th>\n",
       "      <td>184096565021911</td>\n",
       "      <td>1035305953234297</td>\n",
       "      <td>mainstream</td>\n",
       "      <td>ABC News Politics</td>\n",
       "      <td>https://www.facebook.com/ABCNewsPolitics/posts...</td>\n",
       "      <td>2016-09-19</td>\n",
       "      <td>link</td>\n",
       "      <td>mostly true</td>\n",
       "      <td>NaN</td>\n",
       "      <td>34.0</td>\n",
       "      <td>63.0</td>\n",
       "      <td>27.0</td>\n",
       "    </tr>\n",
       "    <tr>\n",
       "      <th>3</th>\n",
       "      <td>184096565021911</td>\n",
       "      <td>1035322636565962</td>\n",
       "      <td>mainstream</td>\n",
       "      <td>ABC News Politics</td>\n",
       "      <td>https://www.facebook.com/ABCNewsPolitics/posts...</td>\n",
       "      <td>2016-09-19</td>\n",
       "      <td>link</td>\n",
       "      <td>mostly true</td>\n",
       "      <td>NaN</td>\n",
       "      <td>35.0</td>\n",
       "      <td>170.0</td>\n",
       "      <td>86.0</td>\n",
       "    </tr>\n",
       "    <tr>\n",
       "      <th>4</th>\n",
       "      <td>184096565021911</td>\n",
       "      <td>1035352946562931</td>\n",
       "      <td>mainstream</td>\n",
       "      <td>ABC News Politics</td>\n",
       "      <td>https://www.facebook.com/ABCNewsPolitics/posts...</td>\n",
       "      <td>2016-09-19</td>\n",
       "      <td>video</td>\n",
       "      <td>mostly true</td>\n",
       "      <td>NaN</td>\n",
       "      <td>568.0</td>\n",
       "      <td>3188.0</td>\n",
       "      <td>2815.0</td>\n",
       "    </tr>\n",
       "  </tbody>\n",
       "</table>\n",
       "</div>"
      ],
      "text/plain": [
       "    aazeazeount_id           post_id    Category               Page  \\\n",
       "0  184096565021911  1035057923259100  mainstream  ABC News Politics   \n",
       "1  184096565021911  1035269309904628  mainstream  ABC News Politics   \n",
       "2  184096565021911  1035305953234297  mainstream  ABC News Politics   \n",
       "3  184096565021911  1035322636565962  mainstream  ABC News Politics   \n",
       "4  184096565021911  1035352946562931  mainstream  ABC News Politics   \n",
       "\n",
       "                                            Post URL Date Published Post Type  \\\n",
       "0  https://www.facebook.com/ABCNewsPolitics/posts...     2016-09-19     video   \n",
       "1  https://www.facebook.com/ABCNewsPolitics/posts...     2016-09-19      link   \n",
       "2  https://www.facebook.com/ABCNewsPolitics/posts...     2016-09-19      link   \n",
       "3  https://www.facebook.com/ABCNewsPolitics/posts...     2016-09-19      link   \n",
       "4  https://www.facebook.com/ABCNewsPolitics/posts...     2016-09-19     video   \n",
       "\n",
       "               Rating Debate  share_count  reaction_count  comment_count  \n",
       "0  no factual content    NaN          NaN           146.0           15.0  \n",
       "1         mostly true    NaN          1.0            33.0           34.0  \n",
       "2         mostly true    NaN         34.0            63.0           27.0  \n",
       "3         mostly true    NaN         35.0           170.0           86.0  \n",
       "4         mostly true    NaN        568.0          3188.0         2815.0  "
      ]
     },
     "execution_count": 15,
     "metadata": {},
     "output_type": "execute_result"
    }
   ],
   "source": [
    "df = pd.read_csv(\"data/facebook.csv\",sep=\",\")\n",
    "df.head()"
   ]
  },
  {
   "cell_type": "code",
   "execution_count": 4,
   "metadata": {
    "collapsed": false
   },
   "outputs": [],
   "source": [
    "import facebook\n",
    "\n",
    "\n",
    "app_id = \"1552032405115067\"\n",
    "app_secret = \"ad8437677bb181c7c56568f3e203f814\" # DO NOT SHARE WITH ANYONE!\n",
    "\n",
    "access_token = app_id + \"|\" + app_secret\n",
    "graph = facebook.GraphAPI(access_token=access_token, version='2.9')\n",
    "#graph = facebook.GraphAPI(access_token)"
   ]
  },
  {
   "cell_type": "code",
   "execution_count": 5,
   "metadata": {
    "collapsed": true
   },
   "outputs": [],
   "source": [
    "def get_message(zipped):\n",
    "    message=[]\n",
    "    for master_id,post_id in zipped:\n",
    "        try:\n",
    "            post = graph.get_object(id=str(master_id)+\"_\"+str(post_id))\n",
    "            message.append(post[\"message\"])\n",
    "        except:\n",
    "            message.append(None)\n",
    "        \n",
    "    return message\n"
   ]
  },
  {
   "cell_type": "code",
   "execution_count": 8,
   "metadata": {
    "collapsed": false
   },
   "outputs": [
    {
     "name": "stdout",
     "output_type": "stream",
     "text": [
      "CPU times: user 10.6 s, sys: 276 ms, total: 10.8 s\n",
      "Wall time: 6min 35s\n"
     ]
    }
   ],
   "source": [
    "%%time\n",
    "zipped = zip(df.aazeazeount_id,df.post_id)\n",
    "message = get_message(zipped)"
   ]
  },
  {
   "cell_type": "code",
   "execution_count": 16,
   "metadata": {
    "collapsed": false
   },
   "outputs": [],
   "source": [
    "#dataframe:\n",
    "df[\"message\"]=message\n",
    "df.dropna(subset=[\"message\"],how=\"any\",inplace=True)\n",
    "df.to_csv(\"data/facebook2.csv\",sep=\",\",encoding=\"utf-8\")"
   ]
  },
  {
   "cell_type": "code",
   "execution_count": 24,
   "metadata": {
    "collapsed": false
   },
   "outputs": [],
   "source": [
    "df = pd.read_csv(\"data/facebook2.csv\",sep=\",\",encoding=\"latin1\")"
   ]
  },
  {
   "cell_type": "code",
   "execution_count": 17,
   "metadata": {
    "collapsed": false
   },
   "outputs": [
    {
     "data": {
      "text/html": [
       "<div>\n",
       "<table border=\"1\" class=\"dataframe\">\n",
       "  <thead>\n",
       "    <tr style=\"text-align: right;\">\n",
       "      <th></th>\n",
       "      <th>uuid</th>\n",
       "      <th>ord_in_thread</th>\n",
       "      <th>author</th>\n",
       "      <th>published</th>\n",
       "      <th>title</th>\n",
       "      <th>text</th>\n",
       "      <th>language</th>\n",
       "      <th>crawled</th>\n",
       "      <th>site_url</th>\n",
       "      <th>country</th>\n",
       "      <th>domain_rank</th>\n",
       "      <th>thread_title</th>\n",
       "      <th>spam_score</th>\n",
       "      <th>main_img_url</th>\n",
       "      <th>replies_count</th>\n",
       "      <th>participants_count</th>\n",
       "      <th>likes</th>\n",
       "      <th>comments</th>\n",
       "      <th>shares</th>\n",
       "      <th>type</th>\n",
       "    </tr>\n",
       "  </thead>\n",
       "  <tbody>\n",
       "    <tr>\n",
       "      <th>0</th>\n",
       "      <td>6a175f46bcd24d39b3e962ad0f29936721db70db</td>\n",
       "      <td>0</td>\n",
       "      <td>Barracuda Brigade</td>\n",
       "      <td>2016-10-26T21:41:00.000+03:00</td>\n",
       "      <td>Muslims BUSTED: They Stole Millions In Gov’t B...</td>\n",
       "      <td>Print They should pay all the back all the mon...</td>\n",
       "      <td>english</td>\n",
       "      <td>2016-10-27T01:49:27.168+03:00</td>\n",
       "      <td>100percentfedup.com</td>\n",
       "      <td>US</td>\n",
       "      <td>25689.0</td>\n",
       "      <td>Muslims BUSTED: They Stole Millions In Gov’t B...</td>\n",
       "      <td>0.000</td>\n",
       "      <td>http://bb4sp.com/wp-content/uploads/2016/10/Fu...</td>\n",
       "      <td>0</td>\n",
       "      <td>1</td>\n",
       "      <td>0</td>\n",
       "      <td>0</td>\n",
       "      <td>0</td>\n",
       "      <td>bias</td>\n",
       "    </tr>\n",
       "    <tr>\n",
       "      <th>1</th>\n",
       "      <td>2bdc29d12605ef9cf3f09f9875040a7113be5d5b</td>\n",
       "      <td>0</td>\n",
       "      <td>reasoning with facts</td>\n",
       "      <td>2016-10-29T08:47:11.259+03:00</td>\n",
       "      <td>Re: Why Did Attorney General Loretta Lynch Ple...</td>\n",
       "      <td>Why Did Attorney General Loretta Lynch Plead T...</td>\n",
       "      <td>english</td>\n",
       "      <td>2016-10-29T08:47:11.259+03:00</td>\n",
       "      <td>100percentfedup.com</td>\n",
       "      <td>US</td>\n",
       "      <td>25689.0</td>\n",
       "      <td>Re: Why Did Attorney General Loretta Lynch Ple...</td>\n",
       "      <td>0.000</td>\n",
       "      <td>http://bb4sp.com/wp-content/uploads/2016/10/Fu...</td>\n",
       "      <td>0</td>\n",
       "      <td>1</td>\n",
       "      <td>0</td>\n",
       "      <td>0</td>\n",
       "      <td>0</td>\n",
       "      <td>bias</td>\n",
       "    </tr>\n",
       "    <tr>\n",
       "      <th>2</th>\n",
       "      <td>c70e149fdd53de5e61c29281100b9de0ed268bc3</td>\n",
       "      <td>0</td>\n",
       "      <td>Barracuda Brigade</td>\n",
       "      <td>2016-10-31T01:41:49.479+02:00</td>\n",
       "      <td>BREAKING: Weiner Cooperating With FBI On Hilla...</td>\n",
       "      <td>Red State : \\nFox News Sunday reported this mo...</td>\n",
       "      <td>english</td>\n",
       "      <td>2016-10-31T01:41:49.479+02:00</td>\n",
       "      <td>100percentfedup.com</td>\n",
       "      <td>US</td>\n",
       "      <td>25689.0</td>\n",
       "      <td>BREAKING: Weiner Cooperating With FBI On Hilla...</td>\n",
       "      <td>0.000</td>\n",
       "      <td>http://bb4sp.com/wp-content/uploads/2016/10/Fu...</td>\n",
       "      <td>0</td>\n",
       "      <td>1</td>\n",
       "      <td>0</td>\n",
       "      <td>0</td>\n",
       "      <td>0</td>\n",
       "      <td>bias</td>\n",
       "    </tr>\n",
       "    <tr>\n",
       "      <th>3</th>\n",
       "      <td>7cf7c15731ac2a116dd7f629bd57ea468ed70284</td>\n",
       "      <td>0</td>\n",
       "      <td>Fed Up</td>\n",
       "      <td>2016-11-01T05:22:00.000+02:00</td>\n",
       "      <td>PIN DROP SPEECH BY FATHER OF DAUGHTER Kidnappe...</td>\n",
       "      <td>Email Kayla Mueller was a prisoner and torture...</td>\n",
       "      <td>english</td>\n",
       "      <td>2016-11-01T15:46:26.304+02:00</td>\n",
       "      <td>100percentfedup.com</td>\n",
       "      <td>US</td>\n",
       "      <td>25689.0</td>\n",
       "      <td>PIN DROP SPEECH BY FATHER OF DAUGHTER Kidnappe...</td>\n",
       "      <td>0.068</td>\n",
       "      <td>http://100percentfedup.com/wp-content/uploads/...</td>\n",
       "      <td>0</td>\n",
       "      <td>0</td>\n",
       "      <td>0</td>\n",
       "      <td>0</td>\n",
       "      <td>0</td>\n",
       "      <td>bias</td>\n",
       "    </tr>\n",
       "    <tr>\n",
       "      <th>4</th>\n",
       "      <td>0206b54719c7e241ffe0ad4315b808290dbe6c0f</td>\n",
       "      <td>0</td>\n",
       "      <td>Fed Up</td>\n",
       "      <td>2016-11-01T21:56:00.000+02:00</td>\n",
       "      <td>FANTASTIC! TRUMP'S 7 POINT PLAN To Reform Heal...</td>\n",
       "      <td>Email HEALTHCARE REFORM TO MAKE AMERICA GREAT ...</td>\n",
       "      <td>english</td>\n",
       "      <td>2016-11-01T23:59:42.266+02:00</td>\n",
       "      <td>100percentfedup.com</td>\n",
       "      <td>US</td>\n",
       "      <td>25689.0</td>\n",
       "      <td>FANTASTIC! TRUMP'S 7 POINT PLAN To Reform Heal...</td>\n",
       "      <td>0.865</td>\n",
       "      <td>http://100percentfedup.com/wp-content/uploads/...</td>\n",
       "      <td>0</td>\n",
       "      <td>0</td>\n",
       "      <td>0</td>\n",
       "      <td>0</td>\n",
       "      <td>0</td>\n",
       "      <td>bias</td>\n",
       "    </tr>\n",
       "  </tbody>\n",
       "</table>\n",
       "</div>"
      ],
      "text/plain": [
       "                                       uuid  ord_in_thread  \\\n",
       "0  6a175f46bcd24d39b3e962ad0f29936721db70db              0   \n",
       "1  2bdc29d12605ef9cf3f09f9875040a7113be5d5b              0   \n",
       "2  c70e149fdd53de5e61c29281100b9de0ed268bc3              0   \n",
       "3  7cf7c15731ac2a116dd7f629bd57ea468ed70284              0   \n",
       "4  0206b54719c7e241ffe0ad4315b808290dbe6c0f              0   \n",
       "\n",
       "                 author                      published  \\\n",
       "0     Barracuda Brigade  2016-10-26T21:41:00.000+03:00   \n",
       "1  reasoning with facts  2016-10-29T08:47:11.259+03:00   \n",
       "2     Barracuda Brigade  2016-10-31T01:41:49.479+02:00   \n",
       "3                Fed Up  2016-11-01T05:22:00.000+02:00   \n",
       "4                Fed Up  2016-11-01T21:56:00.000+02:00   \n",
       "\n",
       "                                               title  \\\n",
       "0  Muslims BUSTED: They Stole Millions In Gov’t B...   \n",
       "1  Re: Why Did Attorney General Loretta Lynch Ple...   \n",
       "2  BREAKING: Weiner Cooperating With FBI On Hilla...   \n",
       "3  PIN DROP SPEECH BY FATHER OF DAUGHTER Kidnappe...   \n",
       "4  FANTASTIC! TRUMP'S 7 POINT PLAN To Reform Heal...   \n",
       "\n",
       "                                                text language  \\\n",
       "0  Print They should pay all the back all the mon...  english   \n",
       "1  Why Did Attorney General Loretta Lynch Plead T...  english   \n",
       "2  Red State : \\nFox News Sunday reported this mo...  english   \n",
       "3  Email Kayla Mueller was a prisoner and torture...  english   \n",
       "4  Email HEALTHCARE REFORM TO MAKE AMERICA GREAT ...  english   \n",
       "\n",
       "                         crawled             site_url country  domain_rank  \\\n",
       "0  2016-10-27T01:49:27.168+03:00  100percentfedup.com      US      25689.0   \n",
       "1  2016-10-29T08:47:11.259+03:00  100percentfedup.com      US      25689.0   \n",
       "2  2016-10-31T01:41:49.479+02:00  100percentfedup.com      US      25689.0   \n",
       "3  2016-11-01T15:46:26.304+02:00  100percentfedup.com      US      25689.0   \n",
       "4  2016-11-01T23:59:42.266+02:00  100percentfedup.com      US      25689.0   \n",
       "\n",
       "                                        thread_title  spam_score  \\\n",
       "0  Muslims BUSTED: They Stole Millions In Gov’t B...       0.000   \n",
       "1  Re: Why Did Attorney General Loretta Lynch Ple...       0.000   \n",
       "2  BREAKING: Weiner Cooperating With FBI On Hilla...       0.000   \n",
       "3  PIN DROP SPEECH BY FATHER OF DAUGHTER Kidnappe...       0.068   \n",
       "4  FANTASTIC! TRUMP'S 7 POINT PLAN To Reform Heal...       0.865   \n",
       "\n",
       "                                        main_img_url  replies_count  \\\n",
       "0  http://bb4sp.com/wp-content/uploads/2016/10/Fu...              0   \n",
       "1  http://bb4sp.com/wp-content/uploads/2016/10/Fu...              0   \n",
       "2  http://bb4sp.com/wp-content/uploads/2016/10/Fu...              0   \n",
       "3  http://100percentfedup.com/wp-content/uploads/...              0   \n",
       "4  http://100percentfedup.com/wp-content/uploads/...              0   \n",
       "\n",
       "   participants_count  likes  comments  shares  type  \n",
       "0                   1      0         0       0  bias  \n",
       "1                   1      0         0       0  bias  \n",
       "2                   1      0         0       0  bias  \n",
       "3                   0      0         0       0  bias  \n",
       "4                   0      0         0       0  bias  "
      ]
     },
     "execution_count": 17,
     "metadata": {},
     "output_type": "execute_result"
    }
   ],
   "source": [
    "all_news.head()"
   ]
  },
  {
   "cell_type": "code",
   "execution_count": 18,
   "metadata": {
    "collapsed": false
   },
   "outputs": [],
   "source": [
    "le = preprocessing.LabelEncoder()\n",
    "label = le.fit_transform(list(all_news['type'])+list(df[\"Rating\"]))\n",
    "#le.transform([\"tokyo\", \"tokyo\", \"paris\"]) \n",
    "\n",
    "#all_news['target']=label"
   ]
  },
  {
   "cell_type": "code",
   "execution_count": 19,
   "metadata": {
    "collapsed": false
   },
   "outputs": [
    {
     "data": {
      "text/plain": [
       "12"
      ]
     },
     "execution_count": 19,
     "metadata": {},
     "output_type": "execute_result"
    }
   ],
   "source": [
    "len(set(label))"
   ]
  },
  {
   "cell_type": "markdown",
   "metadata": {},
   "source": [
    "- ### Def functions"
   ]
  },
  {
   "cell_type": "code",
   "execution_count": 26,
   "metadata": {
    "collapsed": true
   },
   "outputs": [],
   "source": [
    "def word_stemmer(mots):\n",
    "    snowball = SnowballStemmer('english') # for english use Porter stem algo\n",
    "    preprocessed_docs = []\n",
    "    for mot in mots:\n",
    "        preprocessed_docs.append(snowball.stem(mot))   \n",
    "    return preprocessed_docs\n",
    "\n",
    "def word_lemmatizer(mots): \n",
    "    lemmat = WordNetLemmatizer()\n",
    "    preprocessed_docs = []\n",
    "    for mot in mots:\n",
    "        preprocessed_docs.append(lemmat.lemmatize(mot))   \n",
    "    return preprocessed_docs \n",
    "\n",
    "\n",
    "def clean_text(txt):\n",
    "    txt=txt.encode(\"utf-8\")\n",
    "    e=str(txt)\n",
    "    e=unicode(e,'utf-8')\n",
    "    e=unicodedata.normalize('NFKD', e).encode('ascii', 'ignore')\n",
    "    e=re.sub(\"[^a-zA-Z]\", \" \", e)\n",
    "    return e\n",
    "\n",
    "def chunk_mot(phrases):\n",
    "    \"\"\"split text to a set of words : bag-of-words\"\"\"\n",
    "    mots = nltk.word_tokenize(phrases) \n",
    "    return mots \n",
    "\n",
    "def no_punctuation(mots):\n",
    "    \"\"\"return the set of words without puntctuation marks \"\"\"\n",
    "    regex =  re.compile('[%s]' % re.escape(string.punctuation))\n",
    "    mots_no_punctuation = []\n",
    "    for token in mots: \n",
    "        new_token = regex.sub(u'', token)\n",
    "        if not new_token == u'':\n",
    "            mots_no_punctuation.append(new_token.lower()) #lower pour normaliser le texte\n",
    "    return mots_no_punctuation\n",
    "\n",
    "def delete_stop_words(mots):\n",
    "    \"\"\"return the set of words without insignifiant words like : le , de, ces, the... \n",
    "    \"\"\"\n",
    "    stops= set(stopwords.words('french')+stopwords.words('english'))\n",
    "    mots_no_stopwords = []\n",
    "    for mot in mots:\n",
    "        if not mot in stops:\n",
    "                mots_no_stopwords.append(mot)\n",
    "    return mots_no_stopwords\n",
    "\n",
    "\n",
    "    \n",
    "def nettoyer_texte(text, lemma = False, Stemm = False ): \n",
    "    text_chunk = chunk_mot(text)\n",
    "    text_punct = no_punctuation(text_chunk)\n",
    "    text_f = delete_stop_words(text_punct)\n",
    "    #if lemma == True :\n",
    "        #text_f = word_lemmatizer(text_f)\n",
    "    #if Stemm == True : \n",
    "        #text_f = word_stemmer(text_f)\n",
    "    #reconstruct the text\n",
    "    textn = ' '.join(text_f)\n",
    "    return textn"
   ]
  },
  {
   "cell_type": "code",
   "execution_count": 27,
   "metadata": {
    "collapsed": false
   },
   "outputs": [],
   "source": [
    "all_news[\"title\"]=all_news[\"title\"].apply(lambda x : clean_text(x))\n",
    "all_news[\"text\"]=all_news[\"text\"].apply(lambda x : clean_text(x))\n",
    "df[\"message\"]=df[\"message\"].apply(lambda x : clean_text(x))\n",
    "\n",
    "all_news[\"title\"]=all_news[\"title\"].apply(lambda x : nettoyer_texte(x))\n",
    "all_news[\"text\"]=all_news[\"text\"].apply(lambda x : nettoyer_texte(x))\n",
    "df[\"message\"]=df[\"message\"].apply(lambda x : nettoyer_texte(x))"
   ]
  },
  {
   "cell_type": "code",
   "execution_count": 28,
   "metadata": {
    "collapsed": false
   },
   "outputs": [
    {
     "data": {
      "text/html": [
       "<div>\n",
       "<table border=\"1\" class=\"dataframe\">\n",
       "  <thead>\n",
       "    <tr style=\"text-align: right;\">\n",
       "      <th></th>\n",
       "      <th>uuid</th>\n",
       "      <th>ord_in_thread</th>\n",
       "      <th>author</th>\n",
       "      <th>published</th>\n",
       "      <th>title</th>\n",
       "      <th>text</th>\n",
       "      <th>language</th>\n",
       "      <th>crawled</th>\n",
       "      <th>site_url</th>\n",
       "      <th>country</th>\n",
       "      <th>domain_rank</th>\n",
       "      <th>thread_title</th>\n",
       "      <th>spam_score</th>\n",
       "      <th>main_img_url</th>\n",
       "      <th>replies_count</th>\n",
       "      <th>participants_count</th>\n",
       "      <th>likes</th>\n",
       "      <th>comments</th>\n",
       "      <th>shares</th>\n",
       "      <th>type</th>\n",
       "    </tr>\n",
       "  </thead>\n",
       "  <tbody>\n",
       "    <tr>\n",
       "      <th>0</th>\n",
       "      <td>6a175f46bcd24d39b3e962ad0f29936721db70db</td>\n",
       "      <td>0</td>\n",
       "      <td>Barracuda Brigade</td>\n",
       "      <td>2016-10-26T21:41:00.000+03:00</td>\n",
       "      <td>muslims busted stole millions govt benefits</td>\n",
       "      <td>print pay back money plus interest entire fami...</td>\n",
       "      <td>english</td>\n",
       "      <td>2016-10-27T01:49:27.168+03:00</td>\n",
       "      <td>100percentfedup.com</td>\n",
       "      <td>US</td>\n",
       "      <td>25689.0</td>\n",
       "      <td>Muslims BUSTED: They Stole Millions In Gov’t B...</td>\n",
       "      <td>0.000</td>\n",
       "      <td>http://bb4sp.com/wp-content/uploads/2016/10/Fu...</td>\n",
       "      <td>0</td>\n",
       "      <td>1</td>\n",
       "      <td>0</td>\n",
       "      <td>0</td>\n",
       "      <td>0</td>\n",
       "      <td>bias</td>\n",
       "    </tr>\n",
       "    <tr>\n",
       "      <th>1</th>\n",
       "      <td>2bdc29d12605ef9cf3f09f9875040a7113be5d5b</td>\n",
       "      <td>0</td>\n",
       "      <td>reasoning with facts</td>\n",
       "      <td>2016-10-29T08:47:11.259+03:00</td>\n",
       "      <td>attorney general loretta lynch plead fifth</td>\n",
       "      <td>attorney general loretta lynch plead fifth bar...</td>\n",
       "      <td>english</td>\n",
       "      <td>2016-10-29T08:47:11.259+03:00</td>\n",
       "      <td>100percentfedup.com</td>\n",
       "      <td>US</td>\n",
       "      <td>25689.0</td>\n",
       "      <td>Re: Why Did Attorney General Loretta Lynch Ple...</td>\n",
       "      <td>0.000</td>\n",
       "      <td>http://bb4sp.com/wp-content/uploads/2016/10/Fu...</td>\n",
       "      <td>0</td>\n",
       "      <td>1</td>\n",
       "      <td>0</td>\n",
       "      <td>0</td>\n",
       "      <td>0</td>\n",
       "      <td>bias</td>\n",
       "    </tr>\n",
       "    <tr>\n",
       "      <th>2</th>\n",
       "      <td>c70e149fdd53de5e61c29281100b9de0ed268bc3</td>\n",
       "      <td>0</td>\n",
       "      <td>Barracuda Brigade</td>\n",
       "      <td>2016-10-31T01:41:49.479+02:00</td>\n",
       "      <td>breaking weiner cooperating fbi hillary email ...</td>\n",
       "      <td>red state fox news sunday reported morning ant...</td>\n",
       "      <td>english</td>\n",
       "      <td>2016-10-31T01:41:49.479+02:00</td>\n",
       "      <td>100percentfedup.com</td>\n",
       "      <td>US</td>\n",
       "      <td>25689.0</td>\n",
       "      <td>BREAKING: Weiner Cooperating With FBI On Hilla...</td>\n",
       "      <td>0.000</td>\n",
       "      <td>http://bb4sp.com/wp-content/uploads/2016/10/Fu...</td>\n",
       "      <td>0</td>\n",
       "      <td>1</td>\n",
       "      <td>0</td>\n",
       "      <td>0</td>\n",
       "      <td>0</td>\n",
       "      <td>bias</td>\n",
       "    </tr>\n",
       "    <tr>\n",
       "      <th>3</th>\n",
       "      <td>7cf7c15731ac2a116dd7f629bd57ea468ed70284</td>\n",
       "      <td>0</td>\n",
       "      <td>Fed Up</td>\n",
       "      <td>2016-11-01T05:22:00.000+02:00</td>\n",
       "      <td>pin drop speech father daughter kidnapped kill...</td>\n",
       "      <td>email kayla mueller prisoner tortured isis cha...</td>\n",
       "      <td>english</td>\n",
       "      <td>2016-11-01T15:46:26.304+02:00</td>\n",
       "      <td>100percentfedup.com</td>\n",
       "      <td>US</td>\n",
       "      <td>25689.0</td>\n",
       "      <td>PIN DROP SPEECH BY FATHER OF DAUGHTER Kidnappe...</td>\n",
       "      <td>0.068</td>\n",
       "      <td>http://100percentfedup.com/wp-content/uploads/...</td>\n",
       "      <td>0</td>\n",
       "      <td>0</td>\n",
       "      <td>0</td>\n",
       "      <td>0</td>\n",
       "      <td>0</td>\n",
       "      <td>bias</td>\n",
       "    </tr>\n",
       "    <tr>\n",
       "      <th>4</th>\n",
       "      <td>0206b54719c7e241ffe0ad4315b808290dbe6c0f</td>\n",
       "      <td>0</td>\n",
       "      <td>Fed Up</td>\n",
       "      <td>2016-11-01T21:56:00.000+02:00</td>\n",
       "      <td>fantastic trump point plan reform healthcare b...</td>\n",
       "      <td>email healthcare reform make america great sin...</td>\n",
       "      <td>english</td>\n",
       "      <td>2016-11-01T23:59:42.266+02:00</td>\n",
       "      <td>100percentfedup.com</td>\n",
       "      <td>US</td>\n",
       "      <td>25689.0</td>\n",
       "      <td>FANTASTIC! TRUMP'S 7 POINT PLAN To Reform Heal...</td>\n",
       "      <td>0.865</td>\n",
       "      <td>http://100percentfedup.com/wp-content/uploads/...</td>\n",
       "      <td>0</td>\n",
       "      <td>0</td>\n",
       "      <td>0</td>\n",
       "      <td>0</td>\n",
       "      <td>0</td>\n",
       "      <td>bias</td>\n",
       "    </tr>\n",
       "  </tbody>\n",
       "</table>\n",
       "</div>"
      ],
      "text/plain": [
       "                                       uuid  ord_in_thread  \\\n",
       "0  6a175f46bcd24d39b3e962ad0f29936721db70db              0   \n",
       "1  2bdc29d12605ef9cf3f09f9875040a7113be5d5b              0   \n",
       "2  c70e149fdd53de5e61c29281100b9de0ed268bc3              0   \n",
       "3  7cf7c15731ac2a116dd7f629bd57ea468ed70284              0   \n",
       "4  0206b54719c7e241ffe0ad4315b808290dbe6c0f              0   \n",
       "\n",
       "                 author                      published  \\\n",
       "0     Barracuda Brigade  2016-10-26T21:41:00.000+03:00   \n",
       "1  reasoning with facts  2016-10-29T08:47:11.259+03:00   \n",
       "2     Barracuda Brigade  2016-10-31T01:41:49.479+02:00   \n",
       "3                Fed Up  2016-11-01T05:22:00.000+02:00   \n",
       "4                Fed Up  2016-11-01T21:56:00.000+02:00   \n",
       "\n",
       "                                               title  \\\n",
       "0        muslims busted stole millions govt benefits   \n",
       "1         attorney general loretta lynch plead fifth   \n",
       "2  breaking weiner cooperating fbi hillary email ...   \n",
       "3  pin drop speech father daughter kidnapped kill...   \n",
       "4  fantastic trump point plan reform healthcare b...   \n",
       "\n",
       "                                                text language  \\\n",
       "0  print pay back money plus interest entire fami...  english   \n",
       "1  attorney general loretta lynch plead fifth bar...  english   \n",
       "2  red state fox news sunday reported morning ant...  english   \n",
       "3  email kayla mueller prisoner tortured isis cha...  english   \n",
       "4  email healthcare reform make america great sin...  english   \n",
       "\n",
       "                         crawled             site_url country  domain_rank  \\\n",
       "0  2016-10-27T01:49:27.168+03:00  100percentfedup.com      US      25689.0   \n",
       "1  2016-10-29T08:47:11.259+03:00  100percentfedup.com      US      25689.0   \n",
       "2  2016-10-31T01:41:49.479+02:00  100percentfedup.com      US      25689.0   \n",
       "3  2016-11-01T15:46:26.304+02:00  100percentfedup.com      US      25689.0   \n",
       "4  2016-11-01T23:59:42.266+02:00  100percentfedup.com      US      25689.0   \n",
       "\n",
       "                                        thread_title  spam_score  \\\n",
       "0  Muslims BUSTED: They Stole Millions In Gov’t B...       0.000   \n",
       "1  Re: Why Did Attorney General Loretta Lynch Ple...       0.000   \n",
       "2  BREAKING: Weiner Cooperating With FBI On Hilla...       0.000   \n",
       "3  PIN DROP SPEECH BY FATHER OF DAUGHTER Kidnappe...       0.068   \n",
       "4  FANTASTIC! TRUMP'S 7 POINT PLAN To Reform Heal...       0.865   \n",
       "\n",
       "                                        main_img_url  replies_count  \\\n",
       "0  http://bb4sp.com/wp-content/uploads/2016/10/Fu...              0   \n",
       "1  http://bb4sp.com/wp-content/uploads/2016/10/Fu...              0   \n",
       "2  http://bb4sp.com/wp-content/uploads/2016/10/Fu...              0   \n",
       "3  http://100percentfedup.com/wp-content/uploads/...              0   \n",
       "4  http://100percentfedup.com/wp-content/uploads/...              0   \n",
       "\n",
       "   participants_count  likes  comments  shares  type  \n",
       "0                   1      0         0       0  bias  \n",
       "1                   1      0         0       0  bias  \n",
       "2                   1      0         0       0  bias  \n",
       "3                   0      0         0       0  bias  \n",
       "4                   0      0         0       0  bias  "
      ]
     },
     "execution_count": 28,
     "metadata": {},
     "output_type": "execute_result"
    }
   ],
   "source": [
    "all_news.head()"
   ]
  },
  {
   "cell_type": "code",
   "execution_count": 30,
   "metadata": {
    "collapsed": false
   },
   "outputs": [
    {
     "data": {
      "text/html": [
       "<div>\n",
       "<table border=\"1\" class=\"dataframe\">\n",
       "  <thead>\n",
       "    <tr style=\"text-align: right;\">\n",
       "      <th></th>\n",
       "      <th>Unnamed: 0</th>\n",
       "      <th>aazeazeount_id</th>\n",
       "      <th>post_id</th>\n",
       "      <th>Category</th>\n",
       "      <th>Page</th>\n",
       "      <th>Post URL</th>\n",
       "      <th>Date Published</th>\n",
       "      <th>Post Type</th>\n",
       "      <th>Rating</th>\n",
       "      <th>Debate</th>\n",
       "      <th>share_count</th>\n",
       "      <th>reaction_count</th>\n",
       "      <th>comment_count</th>\n",
       "      <th>message</th>\n",
       "    </tr>\n",
       "  </thead>\n",
       "  <tbody>\n",
       "    <tr>\n",
       "      <th>0</th>\n",
       "      <td>1</td>\n",
       "      <td>184096565021911</td>\n",
       "      <td>1035269309904628</td>\n",
       "      <td>mainstream</td>\n",
       "      <td>ABC News Politics</td>\n",
       "      <td>https://www.facebook.com/ABCNewsPolitics/posts...</td>\n",
       "      <td>2016-09-19</td>\n",
       "      <td>link</td>\n",
       "      <td>mostly true</td>\n",
       "      <td>NaN</td>\n",
       "      <td>1.0</td>\n",
       "      <td>33.0</td>\n",
       "      <td>34.0</td>\n",
       "      <td>either candidate move needle debates abc news ...</td>\n",
       "    </tr>\n",
       "    <tr>\n",
       "      <th>1</th>\n",
       "      <td>2</td>\n",
       "      <td>184096565021911</td>\n",
       "      <td>1035305953234297</td>\n",
       "      <td>mainstream</td>\n",
       "      <td>ABC News Politics</td>\n",
       "      <td>https://www.facebook.com/ABCNewsPolitics/posts...</td>\n",
       "      <td>2016-09-19</td>\n",
       "      <td>link</td>\n",
       "      <td>mostly true</td>\n",
       "      <td>NaN</td>\n",
       "      <td>34.0</td>\n",
       "      <td>63.0</td>\n",
       "      <td>27.0</td>\n",
       "      <td>breaking ahmad rahami wanted connection nyc bo...</td>\n",
       "    </tr>\n",
       "    <tr>\n",
       "      <th>2</th>\n",
       "      <td>3</td>\n",
       "      <td>184096565021911</td>\n",
       "      <td>1035322636565962</td>\n",
       "      <td>mainstream</td>\n",
       "      <td>ABC News Politics</td>\n",
       "      <td>https://www.facebook.com/ABCNewsPolitics/posts...</td>\n",
       "      <td>2016-09-19</td>\n",
       "      <td>link</td>\n",
       "      <td>mostly true</td>\n",
       "      <td>NaN</td>\n",
       "      <td>35.0</td>\n",
       "      <td>170.0</td>\n",
       "      <td>86.0</td>\n",
       "      <td>donald trump choice look going really choice t...</td>\n",
       "    </tr>\n",
       "    <tr>\n",
       "      <th>3</th>\n",
       "      <td>4</td>\n",
       "      <td>184096565021911</td>\n",
       "      <td>1035352946562931</td>\n",
       "      <td>mainstream</td>\n",
       "      <td>ABC News Politics</td>\n",
       "      <td>https://www.facebook.com/ABCNewsPolitics/posts...</td>\n",
       "      <td>2016-09-19</td>\n",
       "      <td>video</td>\n",
       "      <td>mostly true</td>\n",
       "      <td>NaN</td>\n",
       "      <td>568.0</td>\n",
       "      <td>3188.0</td>\n",
       "      <td>2815.0</td>\n",
       "      <td>watch live hillary clinton holds news conferen...</td>\n",
       "    </tr>\n",
       "    <tr>\n",
       "      <th>4</th>\n",
       "      <td>5</td>\n",
       "      <td>184096565021911</td>\n",
       "      <td>1035366579894901</td>\n",
       "      <td>mainstream</td>\n",
       "      <td>ABC News Politics</td>\n",
       "      <td>https://www.facebook.com/ABCNewsPolitics/posts...</td>\n",
       "      <td>2016-09-19</td>\n",
       "      <td>link</td>\n",
       "      <td>mostly true</td>\n",
       "      <td>NaN</td>\n",
       "      <td>23.0</td>\n",
       "      <td>28.0</td>\n",
       "      <td>21.0</td>\n",
       "      <td>latest authorities believe three bombing incid...</td>\n",
       "    </tr>\n",
       "  </tbody>\n",
       "</table>\n",
       "</div>"
      ],
      "text/plain": [
       "   Unnamed: 0   aazeazeount_id           post_id    Category  \\\n",
       "0           1  184096565021911  1035269309904628  mainstream   \n",
       "1           2  184096565021911  1035305953234297  mainstream   \n",
       "2           3  184096565021911  1035322636565962  mainstream   \n",
       "3           4  184096565021911  1035352946562931  mainstream   \n",
       "4           5  184096565021911  1035366579894901  mainstream   \n",
       "\n",
       "                Page                                           Post URL  \\\n",
       "0  ABC News Politics  https://www.facebook.com/ABCNewsPolitics/posts...   \n",
       "1  ABC News Politics  https://www.facebook.com/ABCNewsPolitics/posts...   \n",
       "2  ABC News Politics  https://www.facebook.com/ABCNewsPolitics/posts...   \n",
       "3  ABC News Politics  https://www.facebook.com/ABCNewsPolitics/posts...   \n",
       "4  ABC News Politics  https://www.facebook.com/ABCNewsPolitics/posts...   \n",
       "\n",
       "  Date Published Post Type       Rating Debate  share_count  reaction_count  \\\n",
       "0     2016-09-19      link  mostly true    NaN          1.0            33.0   \n",
       "1     2016-09-19      link  mostly true    NaN         34.0            63.0   \n",
       "2     2016-09-19      link  mostly true    NaN         35.0           170.0   \n",
       "3     2016-09-19     video  mostly true    NaN        568.0          3188.0   \n",
       "4     2016-09-19      link  mostly true    NaN         23.0            28.0   \n",
       "\n",
       "   comment_count                                            message  \n",
       "0           34.0  either candidate move needle debates abc news ...  \n",
       "1           27.0  breaking ahmad rahami wanted connection nyc bo...  \n",
       "2           86.0  donald trump choice look going really choice t...  \n",
       "3         2815.0  watch live hillary clinton holds news conferen...  \n",
       "4           21.0  latest authorities believe three bombing incid...  "
      ]
     },
     "execution_count": 30,
     "metadata": {},
     "output_type": "execute_result"
    }
   ],
   "source": [
    "df.head()"
   ]
  },
  {
   "cell_type": "code",
   "execution_count": 49,
   "metadata": {
    "collapsed": true
   },
   "outputs": [],
   "source": [
    "test=pd.DataFrame()\n",
    "test[\"message\"]=df[\"message\"]\n",
    "test.to_csv(\"data/fake2.csv\",sep=\"|\",encoding=\"latin1\")\n",
    "\n",
    "test=pd.DataFrame()\n",
    "test[\"title\"]=all_news[\"title\"]\n",
    "test.to_csv(\"data/fake1.csv\",sep=\"|\",encoding=\"latin1\")"
   ]
  },
  {
   "cell_type": "markdown",
   "metadata": {},
   "source": [
    "- ### Création de la matrice"
   ]
  },
  {
   "cell_type": "code",
   "execution_count": 31,
   "metadata": {
    "collapsed": true
   },
   "outputs": [],
   "source": [
    "from sklearn.feature_extraction.text import TfidfVectorizer\n",
    "from __future__ import print_function\n",
    "\n",
    "import logging\n",
    "import numpy as np\n",
    "from optparse import OptionParser\n",
    "import sys\n",
    "from time import time\n",
    "import matplotlib.pyplot as plt\n",
    "\n",
    "\n",
    "from sklearn.feature_extraction.text import HashingVectorizer\n",
    "from sklearn.feature_selection import SelectKBest, chi2\n",
    "from sklearn.linear_model import RidgeClassifier\n",
    "from sklearn.pipeline import Pipeline\n",
    "from sklearn.svm import LinearSVC\n",
    "from sklearn.linear_model import SGDClassifier\n",
    "from sklearn.linear_model import Perceptron\n",
    "from sklearn.linear_model import PassiveAggressiveClassifier\n",
    "from sklearn.naive_bayes import BernoulliNB, MultinomialNB\n",
    "from sklearn.neighbors import KNeighborsClassifier\n",
    "from sklearn.neighbors import NearestCentroid\n",
    "from sklearn.ensemble import RandomForestClassifier\n",
    "from sklearn.utils.extmath import density\n",
    "from sklearn import metrics\n"
   ]
  },
  {
   "cell_type": "code",
   "execution_count": 32,
   "metadata": {
    "collapsed": false
   },
   "outputs": [],
   "source": [
    "#tokenize = lambda doc: doc.split(\" \")\n",
    "sklearn_tfidf = TfidfVectorizer(norm='l2',min_df=0, use_idf=True, smooth_idf=False, sublinear_tf=True) \n",
    "tfidf_title = sklearn_tfidf.fit_transform(list(all_news['title']) + list(df[\"message\"]))\n",
    "feature_names = sklearn_tfidf.get_feature_names()"
   ]
  },
  {
   "cell_type": "code",
   "execution_count": 33,
   "metadata": {
    "collapsed": false
   },
   "outputs": [
    {
     "data": {
      "text/plain": [
       "(15202, 18048)"
      ]
     },
     "execution_count": 33,
     "metadata": {},
     "output_type": "execute_result"
    }
   ],
   "source": [
    "tfidf_title.shape"
   ]
  },
  {
   "cell_type": "code",
   "execution_count": 34,
   "metadata": {
    "collapsed": false
   },
   "outputs": [],
   "source": [
    "ch2 = SelectKBest(chi2, k=100)\n",
    "tfidf_title = ch2.fit_transform(tfidf_title,label)\n",
    "feature_names = [feature_names[i] for i\n",
    "                         in ch2.get_support(indices=True)]\n"
   ]
  },
  {
   "cell_type": "code",
   "execution_count": 35,
   "metadata": {
    "collapsed": false,
    "scrolled": true
   },
   "outputs": [
    {
     "data": {
      "text/plain": [
       "[u'abellera',\n",
       " u'adobochron',\n",
       " u'adobochronicles',\n",
       " u'amish',\n",
       " u'apres',\n",
       " u'avoir',\n",
       " u'bahrain',\n",
       " u'barnett',\n",
       " u'bennett',\n",
       " u'cheated',\n",
       " u'chef',\n",
       " u'clickhole',\n",
       " u'com',\n",
       " u'comerford',\n",
       " u'dankof',\n",
       " u'dates',\n",
       " u'debate',\n",
       " u'declaring',\n",
       " u'deen',\n",
       " u'democrats',\n",
       " u'donald',\n",
       " u'dr',\n",
       " u'duke',\n",
       " u'eagle',\n",
       " u'eaglerising',\n",
       " u'eligio',\n",
       " u'entendre',\n",
       " u'executive',\n",
       " u'exports',\n",
       " u'feminism',\n",
       " u'figurehead',\n",
       " u'filipina',\n",
       " u'filipino',\n",
       " u'find',\n",
       " u'francois',\n",
       " u'gagas',\n",
       " u'gorafi',\n",
       " u'gotcha',\n",
       " u'gray',\n",
       " u'guaranteeing',\n",
       " u'herbal',\n",
       " u'homesteader',\n",
       " u'horoscope',\n",
       " u'http',\n",
       " u'image',\n",
       " u'ivan',\n",
       " u'jalandoni',\n",
       " u'jeepney',\n",
       " u'keyboards',\n",
       " u'koel',\n",
       " u'lawson',\n",
       " u'lemon',\n",
       " u'life',\n",
       " u'like',\n",
       " u'logo',\n",
       " u'lol',\n",
       " u'makati',\n",
       " u'maria',\n",
       " u'meal',\n",
       " u'mitch',\n",
       " u'moyers',\n",
       " u'nan',\n",
       " u'nhl',\n",
       " u'novembre',\n",
       " u'occupy',\n",
       " u'oopsies',\n",
       " u'page',\n",
       " u'penn',\n",
       " u'percentfedup',\n",
       " u'philippine',\n",
       " u'poisoning',\n",
       " u'presidentielle',\n",
       " u'presstv',\n",
       " u'promo',\n",
       " u'quiz',\n",
       " u'rabon',\n",
       " u'rappler',\n",
       " u'rebecca',\n",
       " u'resistance',\n",
       " u'respected',\n",
       " u'ressa',\n",
       " u'revote',\n",
       " u'riding',\n",
       " u'rising',\n",
       " u'said',\n",
       " u'sellout',\n",
       " u'shirley',\n",
       " u'slattery',\n",
       " u'springsteen',\n",
       " u'subliminal',\n",
       " u'suepennontwitte',\n",
       " u'superbugs',\n",
       " u'tourism',\n",
       " u'tutorial',\n",
       " u'ultimatum',\n",
       " u'voids',\n",
       " u'wire',\n",
       " u'writingsouls',\n",
       " u'www',\n",
       " u'yep']"
      ]
     },
     "execution_count": 35,
     "metadata": {},
     "output_type": "execute_result"
    }
   ],
   "source": [
    "feature_names"
   ]
  },
  {
   "cell_type": "markdown",
   "metadata": {},
   "source": [
    "- ## Classifier"
   ]
  },
  {
   "cell_type": "code",
   "execution_count": 36,
   "metadata": {
    "collapsed": false
   },
   "outputs": [],
   "source": [
    "from sklearn.cross_validation import train_test_split\n",
    "X0_train,X0_test,y0_train,y0_test=train_test_split(tfidf_title,label,test_size=0.2,random_state=42)"
   ]
  },
  {
   "cell_type": "code",
   "execution_count": 37,
   "metadata": {
    "collapsed": false
   },
   "outputs": [],
   "source": [
    "import xgboost as xgb"
   ]
  },
  {
   "cell_type": "code",
   "execution_count": 39,
   "metadata": {
    "collapsed": false
   },
   "outputs": [
    {
     "name": "stdout",
     "output_type": "stream",
     "text": [
      "Test error using softmax = 0\n",
      "Test error using softprob = 0\n"
     ]
    },
    {
     "name": "stderr",
     "output_type": "stream",
     "text": [
      "[0]\ttrain-merror:0.210509\ttest-merror:0.211115\n",
      "[1]\ttrain-merror:0.210345\ttest-merror:0.211115\n",
      "[2]\ttrain-merror:0.209193\ttest-merror:0.210786\n",
      "[3]\ttrain-merror:0.206069\ttest-merror:0.209471\n",
      "[4]\ttrain-merror:0.203355\ttest-merror:0.206840\n",
      "[0]\ttrain-merror:0.210509\ttest-merror:0.211115\n",
      "[1]\ttrain-merror:0.210345\ttest-merror:0.211115\n",
      "[2]\ttrain-merror:0.209193\ttest-merror:0.210786\n",
      "[3]\ttrain-merror:0.206069\ttest-merror:0.209471\n",
      "[4]\ttrain-merror:0.203355\ttest-merror:0.206840\n"
     ]
    }
   ],
   "source": [
    "xg_train = xgb.DMatrix(X0_train, label=y0_train)\n",
    "xg_test = xgb.DMatrix(X0_test, label=y0_test)\n",
    "# setup parameters for xgboost\n",
    "param = {}\n",
    "# use softmax multi-class classification\n",
    "param['objective'] = 'multi:softmax'\n",
    "# scale weight of positive examples\n",
    "param['eta'] = 0.1\n",
    "param['max_depth'] = 6\n",
    "param['silent'] = 1\n",
    "param['nthread'] = 4\n",
    "param['num_class'] = 12\n",
    "\n",
    "watchlist = [(xg_train, 'train'), (xg_test, 'test')]\n",
    "num_round = 5\n",
    "bst = xgb.train(param, xg_train, num_round, watchlist)\n",
    "# get prediction\n",
    "pred = bst.predict(xg_test)\n",
    "error_rate = np.sum(pred != y0_test) / y0_test.shape[0]\n",
    "print('Test error using softmax = {}'.format(error_rate))\n",
    "\n",
    "# do the same thing again, but output probabilities\n",
    "param['objective'] = 'multi:softprob'\n",
    "bst = xgb.train(param, xg_train, num_round, watchlist)\n",
    "# Note: this convention has been changed since xgboost-unity\n",
    "# get prediction, this is in 1D array, need reshape to (ndata, nclass)\n",
    "pred_prob = bst.predict(xg_test).reshape(y0_test.shape[0], 12)\n",
    "pred_label = np.argmax(pred_prob, axis=1)\n",
    "error_rate = np.sum(pred != y0_test) / y0_test.shape[0]\n",
    "print('Test error using softprob = {}'.format(error_rate))"
   ]
  },
  {
   "cell_type": "code",
   "execution_count": 41,
   "metadata": {
    "collapsed": true
   },
   "outputs": [],
   "source": [
    "bst.save_model(\"data/title2.model\")"
   ]
  },
  {
   "cell_type": "code",
   "execution_count": 42,
   "metadata": {
    "collapsed": false
   },
   "outputs": [],
   "source": [
    "bst_ = xgb.Booster({'nthread':4}) #init model\n",
    "\n",
    "bst_.load_model(\"data/title2.model\")"
   ]
  },
  {
   "cell_type": "code",
   "execution_count": 44,
   "metadata": {
    "collapsed": false
   },
   "outputs": [],
   "source": [
    "test=\"Dear Corporate America, leave our LGBTQ Pride celebrations alone\"\n",
    "test = sklearn_tfidf.transform([test])\n",
    "test = ch2.transform(test)\n",
    "\n",
    "xg_test = xgb.DMatrix(test)\n",
    "pred_prob = bst_.predict(xg_test).reshape(test.shape[0], 12)\n",
    "pred_label = np.argmax(pred_prob, axis=1)"
   ]
  },
  {
   "cell_type": "code",
   "execution_count": 45,
   "metadata": {
    "collapsed": false
   },
   "outputs": [
    {
     "data": {
      "text/plain": [
       "array([[ 0.06567565,  0.28902456,  0.06761663,  0.06104074,  0.06406208,\n",
       "         0.06229757,  0.06401962,  0.06220764,  0.07761016,  0.06263246,\n",
       "         0.06140647,  0.06240642]], dtype=float32)"
      ]
     },
     "execution_count": 45,
     "metadata": {},
     "output_type": "execute_result"
    }
   ],
   "source": [
    "pred_prob"
   ]
  },
  {
   "cell_type": "code",
   "execution_count": 46,
   "metadata": {
    "collapsed": false
   },
   "outputs": [
    {
     "data": {
      "text/plain": [
       "array(['bs'], \n",
       "      dtype='|S25')"
      ]
     },
     "execution_count": 46,
     "metadata": {},
     "output_type": "execute_result"
    }
   ],
   "source": [
    "le.inverse_transform(pred_label)"
   ]
  },
  {
   "cell_type": "code",
   "execution_count": 48,
   "metadata": {
    "collapsed": false
   },
   "outputs": [
    {
     "data": {
      "text/plain": [
       "['label_encoder.pkl']"
      ]
     },
     "execution_count": 48,
     "metadata": {},
     "output_type": "execute_result"
    }
   ],
   "source": [
    "import pickle\n",
    "from sklearn.externals import joblib\n",
    "#joblib.dump(sklearn_tfidf, 'vectorizer.pkl') \n",
    "joblib.dump(ch2, 'ch2.pkl')\n",
    "joblib.dump(le, 'label_encoder.pkl')"
   ]
  },
  {
   "cell_type": "code",
   "execution_count": null,
   "metadata": {
    "collapsed": true
   },
   "outputs": [],
   "source": []
  }
 ],
 "metadata": {
  "anaconda-cloud": {},
  "kernelspec": {
   "display_name": "Python 2",
   "language": "python",
   "name": "python2"
  },
  "language_info": {
   "codemirror_mode": {
    "name": "ipython",
    "version": 2
   },
   "file_extension": ".py",
   "mimetype": "text/x-python",
   "name": "python",
   "nbconvert_exporter": "python",
   "pygments_lexer": "ipython2",
   "version": "2.7.13"
  }
 },
 "nbformat": 4,
 "nbformat_minor": 1
}
