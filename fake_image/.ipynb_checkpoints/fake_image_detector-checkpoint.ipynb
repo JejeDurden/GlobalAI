{
 "cells": [
  {
   "cell_type": "markdown",
   "metadata": {},
   "source": [
    "# Fake Image Detector"
   ]
  },
  {
   "cell_type": "markdown",
   "metadata": {},
   "source": [
    "## Imports"
   ]
  },
  {
   "cell_type": "code",
   "execution_count": 1,
   "metadata": {
    "collapsed": true
   },
   "outputs": [],
   "source": [
    "%matplotlib inline \n",
    "import urllib, cStringIO\n",
    "from PIL import Image\n",
    "import matplotlib.pyplot as plt\n",
    "import matplotlib.image as mpimg\n",
    "import numpy as np\n",
    "import os\n",
    "import pandas as pd\n",
    "import urllib2\n",
    "import scipy\n",
    "import scipy.misc\n",
    "from scipy import spatial as sp\n",
    "from os import listdir\n",
    "from os.path import isfile, join\n",
    "from bs4 import BeautifulSoup"
   ]
  },
  {
   "cell_type": "markdown",
   "metadata": {},
   "source": [
    "## Image Loading"
   ]
  },
  {
   "cell_type": "code",
   "execution_count": 2,
   "metadata": {
    "collapsed": false
   },
   "outputs": [
    {
     "data": {
      "image/png": "[encoded data removed]",
      "text/plain": [
       "<matplotlib.figure.Figure at 0x7f693f281e90>"
      ]
     },
     "metadata": {},
     "output_type": "display_data"
    }
   ],
   "source": [
    "URL = \"https://raw.githubusercontent.com/plu/JPSimulatorHacks/master/Data/test.png\"\n",
    "file = cStringIO.StringIO(urllib.urlopen(URL).read())\n",
    "img = Image.open(file)\n",
    "#img.thumbnail((256, 256), Image.ANTIALIAS) # resizes image in-place\n",
    "imgplot = plt.imshow(img)"
   ]
  },
  {
   "cell_type": "code",
   "execution_count": 3,
   "metadata": {
    "collapsed": false
   },
   "outputs": [],
   "source": [
    "#exif_data = img._getexif()"
   ]
  },
  {
   "cell_type": "code",
   "execution_count": 4,
   "metadata": {
    "collapsed": false,
    "scrolled": false
   },
   "outputs": [
    {
     "data": {
      "image/png": "[encoded data removed]",
      "text/plain": [
       "<matplotlib.figure.Figure at 0x7f6984c93210>"
      ]
     },
     "metadata": {},
     "output_type": "display_data"
    }
   ],
   "source": [
    "img=mpimg.imread(URL)\n",
    "hist=plt.hist(img.ravel(),bins=256, range=(0.0, 1.0), fc='k', ec='k')"
   ]
  },
  {
   "cell_type": "code",
   "execution_count": 5,
   "metadata": {
    "collapsed": false
   },
   "outputs": [],
   "source": [
    "#create target folder\n",
    "directory=\"data/test/\"\n",
    "if not os.path.exists(directory):\n",
    "    os.makedirs(directory)\n",
    "    print(\"%s path created\" %directory)\n",
    "    \n",
    "#write on disk\n",
    "img = urllib2.urlopen(URL)   \n",
    "with open(directory+\"%s.jpg\" %(\"test\"), 'wb') as f:\n",
    "    f.write(img.read())"
   ]
  },
  {
   "cell_type": "markdown",
   "metadata": {},
   "source": [
    "## Reverse Image research"
   ]
  },
  {
   "cell_type": "code",
   "execution_count": 10,
   "metadata": {
    "collapsed": true
   },
   "outputs": [],
   "source": [
    "import pycurl\n",
    "import json\n",
    "#from flask import Flask, url_for, json, request\n",
    "python3 = False\n",
    "try:\n",
    "    from StringIO import StringIO\n",
    "except ImportError:\n",
    "    python3 = True\n",
    "    import io as bytesIOModule\n",
    "from bs4 import BeautifulSoup\n",
    "if python3:\n",
    "    import certifi\n",
    "SEARCH_URL = 'https://www.google.com/searchbyimage?&image_url='"
   ]
  },
  {
   "cell_type": "code",
   "execution_count": 11,
   "metadata": {
    "collapsed": true
   },
   "outputs": [],
   "source": [
    "def doImageSearch(image_url):\n",
    "    \"\"\"Perform the image search and return the HTML page response.\"\"\"\n",
    "\n",
    "    if python3:\n",
    "        returned_code = bytesIOModule.BytesIO()\n",
    "    else:\n",
    "        returned_code = StringIO()\n",
    "    full_url = SEARCH_URL + image_url\n",
    "\n",
    "\n",
    "    conn = pycurl.Curl()\n",
    "    if python3:\n",
    "        conn.setopt(conn.CAINFO, certifi.where())\n",
    "    conn.setopt(conn.URL, str(full_url))\n",
    "    conn.setopt(conn.FOLLOWLOCATION, 1)\n",
    "    conn.setopt(conn.USERAGENT, 'Mozilla/5.0 (Windows NT 6.1; WOW64) AppleWebKit/537.11 (KHTML, like Gecko) Chrome/23.0.1271.97 Safari/537.11')\n",
    "    conn.setopt(conn.WRITEFUNCTION, returned_code.write)\n",
    "    conn.perform()\n",
    "    conn.close()\n",
    "    if python3:\n",
    "        return returned_code.getvalue().decode('UTF-8')\n",
    "    else:\n",
    "        return returned_code.getvalue()\n",
    "    \n",
    "def parseResults(code):\n",
    "    \"\"\"Parse/Scrape the HTML code for the info we want.\"\"\"\n",
    "\n",
    "    soup = BeautifulSoup(code, 'html.parser')\n",
    "\n",
    "    results = {\n",
    "        'links': [],\n",
    "        'descriptions': [],\n",
    "        'titles': [],\n",
    "        'similar_images': []\n",
    "    }\n",
    "\n",
    "    for div in soup.findAll('div', attrs={'class':'g'}):\n",
    "        sLink = div.find('a')\n",
    "        results['links'].append(sLink['href'])\n",
    "\n",
    "    for desc in soup.findAll('span', attrs={'class':'st'}):\n",
    "        results['descriptions'].append(desc.get_text())\n",
    "\n",
    "    for title in soup.findAll('h3', attrs={'class':'r'}):\n",
    "        results['titles'].append(title.get_text())\n",
    "\n",
    "    for similar_image in soup.findAll('div', attrs={'rg_meta'}):\n",
    "        tmp = json.loads(similar_image.get_text())\n",
    "        img_url = tmp['ou']\n",
    "        results['similar_images'].append(img_url)\n",
    "\n",
    "    #return json.dumps(results)\n",
    "    return results"
   ]
  },
  {
   "cell_type": "code",
   "execution_count": 12,
   "metadata": {
    "collapsed": false
   },
   "outputs": [],
   "source": [
    "#URL = \"http://www.legorafi.fr/wp-content/uploads/2017/06/iStock-kupicoo-e1498205951780-820x465.jpg\"\n",
    "#URL = \"http://cpaquebec.ca/~/media/images/communaute-cpa/regroupements-regionaux/jeunes-cpa-montreal/Party-Post-EFC_bandeau_web_570x200.jpg\"\n",
    "URL =\"http://i.f1g.fr/media/figaro/805x453_crop/2017/06/24/XVMfb91733a-58c9-11e7-9bb8-f4ad8e4a4fd1.jpg\"\n",
    "junk = doImageSearch(URL)\n",
    "out = parseResults(junk)"
   ]
  },
  {
   "cell_type": "code",
   "execution_count": 13,
   "metadata": {
    "collapsed": false,
    "scrolled": true
   },
   "outputs": [
    {
     "data": {
      "text/plain": [
       "{'descriptions': [u\"52 \\xd7 52 - 21 sept. 2006 - DE DR\\xd4LES de titres figurent sur la liste des meilleures ventes en librairies. Il s'agit de Qu'apprend-on \\xe0 l'\\xe9cole maternelle et de\\xa0...\",\n",
       "  u'500 \\xd7 333 - Il y a 5\\xa0jours - Emmanuel Macron a demand\\xe9 \\xe0 Richard Ferrand, ministre de la Coh\\xe9sion des territoires, de quitter le gouvernement pour \\xabbriguer la\\xa0...',\n",
       "  u'500 \\xd7 333 - Il y a 5\\xa0jours - Emmanuel Macron a demand\\xe9 \\xe0 Richard Ferrand, ministre de la Coh\\xe9sion des territoires, de quitter le gouvernement pour \\xabbriguer la\\xa0...',\n",
       "  u'500 \\xd7 333 - 31 mai 2017 - Une large majorit\\xe9 de Fran\\xe7ais estime que les ministres Richard Ferrand et Marielle de Sarnez devraient d\\xe9missionner en raison des\\xa0...',\n",
       "  u\"260 \\xd7 146 - En d\\xe9placement sur les chantiers navals de Saint-Nazaire (Loire-Atlantique), Emmanuel Macron, interrog\\xe9 sur l'affaire Ferrand, en a profit\\xe9 pour lancer un\\xa0...\"],\n",
       " 'links': [u'/search?tbs=simg:CAEStQIJwWW7V2YpA6caqQILEKjU2AQaBggACD0IQgwLELCMpwgaYgpgCAMSKOQEgxmeDv8YihnjBPQepQ7lBJIQ2y3qP8cu5S3ZOs4-zjqvLus_17SQaMPutH3LuI1_13rBWsiKpr9uBWGyIwmBy_1dD_15likVklVr3JPzcizdrX1m80Oww8O_1WSAEDAsQjq7-CBoKCggIARIESr2GWgwLEJ3twQkakgEKHwoMc3Bva2VzcGVyc29u2qWI9gMLCgkvbS8wMXhyNjYKGAoGc3BlZWNo2qWI9gMKCggvbS8wOXgwcgohCg9wdWJsaWMgc3BlYWtpbmfapYj2AwoKCC9tLzA2OGs0ChgKBm9yYXRvctqliPYDCgoIL20vMGhwanQKGAoFZXZlbnTapYj2AwsKCS9tLzA4MXBragw&q=Richard+Ferrand&tbm=isch&sa=X&ved=0ahUKEwjZke-XvtbUAhVMahoKHfn1BtsQsw4ILQ',\n",
       "  u'http://www.lefigaro.fr/livres/2006/09/21/03005-20060921ARTFIG90245-ecole_demandez_les_programmes.php',\n",
       "  u'http://www.lunion.fr/36695/article/2017-06-19/richard-ferrand-va-quitter-le-gouvernement-pour-diriger-le-groupe-en-marche-l',\n",
       "  u'http://www.lunion.fr/36695/article/2017-06-19/richard-ferrand-quitte-le-gouvernement-pour-diriger-le-groupe-en-marche-l',\n",
       "  u'http://www.lunion.fr/33297/article/2017-05-31/ferrand-et-de-sarnez-doivent-demissionner-pour-une-majorite-de-francais',\n",
       "  u'http://www.francetvinfo.fr/politique/affaire/3.html',\n",
       "  u'/imgres?imgurl=http://www.lja.fr/wp-content/uploads/2017/02/Photo-le-d%25C3%25A9put%25C3%25A9-Richard-Ferrand.jpg&imgrefurl=http://www.lja.fr/3-questions-a-richard-ferrand-mission-information-loi-macron/&h=512&w=512&tbnid=R_r64oXAaP9RJM:&tbnh=121&tbnw=121&usg=__96LW6MALwyD7OVd2FKU2-CFXQRM=&vet=1&docid=zdgLjU75urszFM&itg=1&sa=X&ved=0ahUKEwjZke-XvtbUAhVMahoKHfn1BtsQ_B0IcjAP'],\n",
       " 'similar_images': [u'http://media1.woopic.com/api/v1/images/661%2Ffrancetv-actu-articles%2F134%2F377%2F89cae249df812abb4a0b363255%2Faffaire-richard-ferrand-les-faits-denonces-par-le-canard-enchaine-ne-permettent-pas-d-ouvrir-une-enquete-annonce-le-parquet-de-brest%7C12544316.jpg?format=470x264&facedetect=1&quality=85',\n",
       "  u'http://img.bfmtv.com/c/1000/600/0d43/1f571425d25058f43e817f7efbee.jpeg',\n",
       "  u'http://s-www.leprogres.fr/images/F98B9DD1-A3B3-4A0B-A681-68C1C1FD5948/LPR_v1_02/richard-ferrand-soupconne-d-avoir-discretement-favorise-sa-femme-dans-la-vente-d-un-bien-immobilier-afp-1496033978.jpg',\n",
       "  u'https://www.franceinter.fr/s3/cruiser-production/2017/05/b5ba3fef-7a8c-4e08-91e7-6c03677ebf14/640_000_ot7jx.jpg',\n",
       "  u'http://france3-regions.francetvinfo.fr/bretagne/sites/regions_france3/files/styles/top_big/public/assets/images/2017/02/08/maxnewsfrthree846405-2893191.jpg?itok=d0lwlT8e',\n",
       "  u'http://resize3-parismatch.ladmedia.fr/r/625,417,center-middle,ffffff/img/var/news/storage/images/paris-match/actu/politique/richard-ferrand-un-ministre-dans-la-nasse-1273253/21287693-1-fre-FR/Richard-Ferrand-un-ministre-dans-la-nasse.jpg',\n",
       "  u'http://portail.free.fr/data/actualites/france/2017-05-31/jean-luc-melenchon-content-que-richard-ferrand-soit-epingle.jpg',\n",
       "  u'https://www.franceinter.fr/s3/cruiser-production/2017/05/e02654a6-78de-4395-910c-0254af729cb7/640_042_cs_140508_1553066.jpg',\n",
       "  u'https://www.franceinter.fr/s3/cruiser-production/2017/03/5ab3a6f6-45ab-44d1-92b6-ea9898c6ed7a/640_maxnewsfrthree846406.jpg',\n",
       "  u'http://media1.woopic.com/api/v1/images/661%2Ffrancetv-actu-articles%2F7c7%2Fbd1%2Ff3dc3d5f0e8a8f4ffcb64a7fc9%2Frichard-ferrand-fausse-note-dans-la-moralisation%7C12544940.jpg?format=980x450&facedetect=1&quality=85',\n",
       "  u'http://www.lja.fr/wp-content/uploads/2017/02/Photo-le-d%C3%A9put%C3%A9-Richard-Ferrand.jpg'],\n",
       " 'titles': [u'\\xc9cole : demandez les programmes - Le Figaro',\n",
       "  u'Richard Ferrand quitte le gouvernement pour diriger le groupe En ...',\n",
       "  u'Richard Ferrand quitte le gouvernement pour diriger le groupe En ...',\n",
       "  u'Ferrand et de Sarnez doivent d\\xe9missionner pour une majorit\\xe9 de ...',\n",
       "  u'Affaires - page 3 - Franceinfo']}"
      ]
     },
     "execution_count": 13,
     "metadata": {},
     "output_type": "execute_result"
    }
   ],
   "source": [
    "out"
   ]
  },
  {
   "cell_type": "markdown",
   "metadata": {},
   "source": [
    "- ## Image crawler"
   ]
  },
  {
   "cell_type": "code",
   "execution_count": 41,
   "metadata": {
    "collapsed": true
   },
   "outputs": [],
   "source": [
    "def find_all_img(url):\n",
    "    test_url = url\n",
    "    request = urllib2.Request(test_url)\n",
    "    page = urllib2.urlopen(request).read()\n",
    "    soup = BeautifulSoup(page,\"html.parser\")\n",
    "    links = soup.findAll('img')\n",
    "    links = [tag['src'] for tag in links]\n",
    "    return links   "
   ]
  },
  {
   "cell_type": "code",
   "execution_count": 42,
   "metadata": {
    "collapsed": false,
    "scrolled": true
   },
   "outputs": [
    {
     "data": {
      "text/plain": [
       "[u'https://www.facebook.com/tr?id=356024307906577&ev=PageView&noscript=1',\n",
       " u'//a.f1g.fr/h/assets-components/header-footer/scan-politique-desktop.png',\n",
       " u'//a.f1g.fr/h/assets-components/header-footer/scan-politique-tablette.png',\n",
       " u'//a.f1g.fr/h/assets-components/header-footer/scan-politique-mobile.svg',\n",
       " u'//a.f1g.fr/h/assets-components/header-footer/scan-politique-collapse.png',\n",
       " u'http://i.f1g.fr/media/ext/55x55/plus.lefigaro.fr/sites/default/files/imagecache/Petite/pictures/picture-2771970-61ub7czn.jpg',\n",
       " u'http://i.f1g.fr/media/ext/101x67_crop/i.f1g.fr/media/figaro/805x453_crop/2017/06/23/XVM4e351d06-582c-11e7-bab4-c4b90180982c.jpg',\n",
       " u'http://i.f1g.fr/media/ext/101x67_crop/i.f1g.fr/media/figaro/805x453_crop/2017/06/23/XVM82c5fb86-57fe-11e7-b986-7656cb6ba5ab.jpg',\n",
       " u'http://i.f1g.fr/media/ext/50x/plus.lefigaro.fr/sites/default/files/imagecache/Petite/pictures/picture-1460522-611pv5rn.png',\n",
       " u'http://i.f1g.fr/media/ext/50x/plus.lefigaro.fr/sites/default/files/imagecache/Petite/avatar_selection/avatar-09.jpg',\n",
       " u'http://i.f1g.fr/media/ext/50x/plus.lefigaro.fr/sites/default/files/imagecache/Petite/images/nophoto.jpg',\n",
       " u'http://i.f1g.fr/media/ext/50x/plus.lefigaro.fr/sites/default/files/imagecache/Petite/avatar_selection/avatar-06.jpg',\n",
       " u'http://i.f1g.fr/media/ext/50x/plus.lefigaro.fr/sites/default/files/imagecache/Petite/pictures/picture-3033017-61nn83r3.jpg',\n",
       " u'http://i.f1g.fr/media/ext/50x/plus.lefigaro.fr/sites/default/files/imagecache/Petite/pictures/picture-3031841-61yulptm.jpg',\n",
       " u'http://i.f1g.fr/media/ext/50x/plus.lefigaro.fr/sites/default/files/imagecache/Petite/avatar_selection/avatar-40.jpg',\n",
       " u'http://i.f1g.fr/media/ext/50x/plus.lefigaro.fr/sites/default/files/imagecache/Petite/pictures/picture-35468-5pl2jls.png',\n",
       " u'http://i.f1g.fr/media/ext/50x/plus.lefigaro.fr/sites/default/files/imagecache/Petite/avatar_selection/avatar-01.jpg',\n",
       " u'http://i.f1g.fr/media/ext/50x/plus.lefigaro.fr/sites/default/files/imagecache/Petite/avatar_selection/avatar-01.jpg',\n",
       " u'http://a.f1g.fr/assets-img/footer-carrousel/Lachainemeteo.jpg?bd4e386c627c10684978ebe0f0f6cccb1ad25103',\n",
       " u'http://a.f1g.fr/assets-img/footer-carrousel/Ticketac.jpg?bd4e386c627c10684978ebe0f0f6cccb1ad25103',\n",
       " u'http://a.f1g.fr/assets-img/footer-carrousel/epresse.jpg?bd4e386c627c10684978ebe0f0f6cccb1ad25103',\n",
       " u'http://a.f1g.fr/assets-img/footer-carrousel/FigaroStore.jpg?bd4e386c627c10684978ebe0f0f6cccb1ad25103',\n",
       " u'http://a.f1g.fr/assets-img/footer-carrousel/Vin.jpg?bd4e386c627c10684978ebe0f0f6cccb1ad25103',\n",
       " u'http://a.f1g.fr/assets-img/footer-carrousel/Newsletters.jpg?bd4e386c627c10684978ebe0f0f6cccb1ad25103',\n",
       " u'http://a.f1g.fr/assets-img/footer-carrousel/JeuxConcours.jpg?bd4e386c627c10684978ebe0f0f6cccb1ad25103',\n",
       " u'http://a.f1g.fr/assets-img/footer-carrousel/Aboweb.jpg?bd4e386c627c10684978ebe0f0f6cccb1ad25103',\n",
       " u'http://a.f1g.fr/assets-img/footer-carrousel/Emploi.jpg?bd4e386c627c10684978ebe0f0f6cccb1ad25103',\n",
       " u'http://logc111.xiti.com/hit.xiti?sts=1&stc={%22s2%22%3A%2220%22%2C%22isChargeable%22%3A%220%22%2C%22isClosed%22%3A%220%22%2C%22tags%22%3A%22richard+ferrand%7Clrem%7Cassembl%C3%A9e+nationale%22}',\n",
       " u'//amplifypixel.outbrain.com/pixel?mid=00cfaacd3ce7d5bf46d5f6a20eb138626e',\n",
       " u'//trc.taboola.com/lefigaro-sc/log/3/mark?marking-type=untargeting&item-url=http%3A%2F%2Fwww.lefigaro.fr%2Fpolitique%2Fle-scan%2F2017%2F06%2F24%2F25001-20170624ARTFIG00077-comme-prevu-richard-ferrand-prend-la-tete-du-groupe-lrem-a-l-assemblee.php']"
      ]
     },
     "execution_count": 42,
     "metadata": {},
     "output_type": "execute_result"
    }
   ],
   "source": [
    "test_url = \"http://www.lefigaro.fr/politique/le-scan/2017/06/24/25001-20170624ARTFIG00077-comme-prevu-richard-ferrand-prend-la-tete-du-groupe-lrem-a-l-assemblee.php\"\n",
    "find_all_img(test_url)"
   ]
  },
  {
   "cell_type": "code",
   "execution_count": 40,
   "metadata": {
    "collapsed": false
   },
   "outputs": [
    {
     "data": {
      "text/plain": [
       "u'https://www.facebook.com/tr?id=356024307906577&ev=PageView&noscript=1'"
      ]
     },
     "execution_count": 40,
     "metadata": {},
     "output_type": "execute_result"
    }
   ],
   "source": []
  },
  {
   "cell_type": "markdown",
   "metadata": {},
   "source": [
    "## NEC API"
   ]
  },
  {
   "cell_type": "markdown",
   "metadata": {},
   "source": [
    "- ## Jack shit"
   ]
  },
  {
   "cell_type": "code",
   "execution_count": null,
   "metadata": {
    "collapsed": false
   },
   "outputs": [],
   "source": [
    "import sys\n",
    "import requests\n",
    "import json\n",
    "\n",
    "gid=1032\n",
    "\n",
    "\n",
    "# Post Search Request\n",
    "files = {'image': open(directory+'test.jpg', \"rb\")}\n",
    "url = \"https://www3.arche.blue/mvp5/v1/%d/search\" % gid\n",
    "res = requests.post(url, files = files)\n",
    "\n",
    "# Get Response\n",
    "if res.status_code == 200:\n",
    "    print json.dumps(res.json(), indent=4)\n",
    "else:\n",
    "    print res.text"
   ]
  },
  {
   "cell_type": "code",
   "execution_count": null,
   "metadata": {
    "collapsed": true
   },
   "outputs": [],
   "source": []
  }
 ],
 "metadata": {
  "kernelspec": {
   "display_name": "Python 2",
   "language": "python",
   "name": "python2"
  },
  "language_info": {
   "codemirror_mode": {
    "name": "ipython",
    "version": 2
   },
   "file_extension": ".py",
   "mimetype": "text/x-python",
   "name": "python",
   "nbconvert_exporter": "python",
   "pygments_lexer": "ipython2",
   "version": "2.7.13"
  }
 },
 "nbformat": 4,
 "nbformat_minor": 2
}
