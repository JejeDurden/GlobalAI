{
 "cells": [
  {
   "cell_type": "markdown",
   "metadata": {},
   "source": [
    "# Fake Image Detector"
   ]
  },
  {
   "cell_type": "markdown",
   "metadata": {},
   "source": [
    "## Imports"
   ]
  },
  {
   "cell_type": "code",
   "execution_count": 60,
   "metadata": {
    "collapsed": false
   },
   "outputs": [],
   "source": [
    "%matplotlib inline \n",
    "import urllib, cStringIO\n",
    "from PIL import Image\n",
    "import matplotlib.pyplot as plt\n",
    "import matplotlib.image as mpimg\n",
    "import numpy as np\n",
    "import os\n",
    "import pandas as pd\n",
    "import urllib2\n",
    "import scipy\n",
    "import scipy.misc\n",
    "from scipy import spatial as sp\n",
    "from os import listdir\n",
    "from os.path import isfile, join\n",
    "from bs4 import BeautifulSoup\n",
    "import re\n",
    "\n",
    "from unidecode import unidecode"
   ]
  },
  {
   "cell_type": "markdown",
   "metadata": {},
   "source": [
    "## Image Loading"
   ]
  },
  {
   "cell_type": "code",
   "execution_count": 2,
   "metadata": {
    "collapsed": false
   },
   "outputs": [
    {
     "data": {
      "image/png": "[encoded data removed]",
      "text/plain": [
       "<matplotlib.figure.Figure at 0x7f693f281e90>"
      ]
     },
     "metadata": {},
     "output_type": "display_data"
    }
   ],
   "source": [
    "URL = \"https://raw.githubusercontent.com/plu/JPSimulatorHacks/master/Data/test.png\"\n",
    "file = cStringIO.StringIO(urllib.urlopen(URL).read())\n",
    "img = Image.open(file)\n",
    "#img.thumbnail((256, 256), Image.ANTIALIAS) # resizes image in-place\n",
    "imgplot = plt.imshow(img)"
   ]
  },
  {
   "cell_type": "code",
   "execution_count": 3,
   "metadata": {
    "collapsed": false
   },
   "outputs": [],
   "source": [
    "#exif_data = img._getexif()"
   ]
  },
  {
   "cell_type": "code",
   "execution_count": 4,
   "metadata": {
    "collapsed": false,
    "scrolled": false
   },
   "outputs": [
    {
     "data": {
      "image/png": "[encoded data removed]",
      "text/plain": [
       "<matplotlib.figure.Figure at 0x7f6984c93210>"
      ]
     },
     "metadata": {},
     "output_type": "display_data"
    }
   ],
   "source": [
    "img=mpimg.imread(URL)\n",
    "hist=plt.hist(img.ravel(),bins=256, range=(0.0, 1.0), fc='k', ec='k')"
   ]
  },
  {
   "cell_type": "code",
   "execution_count": 5,
   "metadata": {
    "collapsed": false
   },
   "outputs": [],
   "source": [
    "#create target folder\n",
    "directory=\"data/test/\"\n",
    "if not os.path.exists(directory):\n",
    "    os.makedirs(directory)\n",
    "    print(\"%s path created\" %directory)\n",
    "    \n",
    "#write on disk\n",
    "img = urllib2.urlopen(URL)   \n",
    "with open(directory+\"%s.jpg\" %(\"test\"), 'wb') as f:\n",
    "    f.write(img.read())"
   ]
  },
  {
   "cell_type": "markdown",
   "metadata": {},
   "source": [
    "## Reverse Image research"
   ]
  },
  {
   "cell_type": "code",
   "execution_count": 10,
   "metadata": {
    "collapsed": true
   },
   "outputs": [],
   "source": [
    "import pycurl\n",
    "import json\n",
    "#from flask import Flask, url_for, json, request\n",
    "python3 = False\n",
    "try:\n",
    "    from StringIO import StringIO\n",
    "except ImportError:\n",
    "    python3 = True\n",
    "    import io as bytesIOModule\n",
    "from bs4 import BeautifulSoup\n",
    "if python3:\n",
    "    import certifi\n",
    "SEARCH_URL = 'https://www.google.com/searchbyimage?&image_url='"
   ]
  },
  {
   "cell_type": "code",
   "execution_count": 116,
   "metadata": {
    "collapsed": true
   },
   "outputs": [],
   "source": [
    "def doImageSearch(image_url):\n",
    "    \"\"\"Perform the image search and return the HTML page response.\"\"\"\n",
    "\n",
    "    if python3:\n",
    "        returned_code = bytesIOModule.BytesIO()\n",
    "    else:\n",
    "        returned_code = StringIO()\n",
    "    full_url = SEARCH_URL + image_url\n",
    "\n",
    "\n",
    "    conn = pycurl.Curl()\n",
    "    if python3:\n",
    "        conn.setopt(conn.CAINFO, certifi.where())\n",
    "    conn.setopt(conn.URL, str(full_url))\n",
    "    conn.setopt(conn.FOLLOWLOCATION, 1)\n",
    "    conn.setopt(conn.USERAGENT, 'Mozilla/5.0 (Windows NT 6.1; WOW64) AppleWebKit/537.11 (KHTML, like Gecko) Chrome/23.0.1271.97 Safari/537.11')\n",
    "    conn.setopt(conn.WRITEFUNCTION, returned_code.write)\n",
    "    conn.perform()\n",
    "    conn.close()\n",
    "    if python3:\n",
    "        return returned_code.getvalue().decode('UTF-8')\n",
    "    else:\n",
    "        return returned_code.getvalue()\n",
    "    \n",
    "def parseResults(code):\n",
    "    \"\"\"Parse/Scrape the HTML code for the info we want.\"\"\"\n",
    "\n",
    "    soup = BeautifulSoup(code, 'html.parser')\n",
    "\n",
    "    results = {\n",
    "        'links': [],\n",
    "        'descriptions': [],\n",
    "        'titles': [],\n",
    "        'similar_images': []\n",
    "    }\n",
    "\n",
    "    for div in soup.findAll('div', attrs={'class':'g'}):\n",
    "        sLink = div.find('a')\n",
    "        results['links'].append(sLink['href'])\n",
    "\n",
    "    for desc in soup.findAll('span', attrs={'class':'st'}):\n",
    "        results['descriptions'].append(desc.get_text())\n",
    "\n",
    "    for title in soup.findAll('h3', attrs={'class':'r'}):\n",
    "        results['titles'].append(title.get_text())\n",
    "\n",
    "    for similar_image in soup.findAll('div', attrs={'rg_meta'}):\n",
    "        tmp = json.loads(similar_image.get_text())\n",
    "        img_url = tmp['ou']\n",
    "        results['similar_images'].append(img_url)\n",
    "\n",
    "    #return json.dumps(results)\n",
    "    return results\n",
    "\n",
    "def extract_reverse_url(dic):\n",
    "    if dic:\n",
    "        return dic['links']\n",
    "    else:\n",
    "        return"
   ]
  },
  {
   "cell_type": "code",
   "execution_count": 117,
   "metadata": {
    "collapsed": false
   },
   "outputs": [],
   "source": [
    "#URL = \"http://www.legorafi.fr/wp-content/uploads/2017/06/iStock-kupicoo-e1498205951780-820x465.jpg\"\n",
    "#URL = \"http://cpaquebec.ca/~/media/images/communaute-cpa/regroupements-regionaux/jeunes-cpa-montreal/Party-Post-EFC_bandeau_web_570x200.jpg\"\n",
    "#URL =\"http://i.f1g.fr/media/figaro/805x453_crop/2017/06/24/XVMfb91733a-58c9-11e7-9bb8-f4ad8e4a4fd1.jpg\"\n",
    "#URL = \"http://i.f1g.fr/media/figaro/805x453_crop/2017/06/24/XVM724f8754-58df-11e7-9bb8-f4ad8e4a4fd1.jpg\"\n",
    "URL = 'http://i.f1g.fr/media/ext/960x600_crop/sport24.lefigaro.fr/var/plain_site/storage/images/rugby/xv-de-france/actualites/afrique-du-sud-france-en-direct-865353/23165757-3-fre-FR/Sans-solution-les-Bleus-encore-battus-en-Afrique-du-Sud.jpg'\n",
    "junk = doImageSearch(URL)\n",
    "out = parseResults(junk)"
   ]
  },
  {
   "cell_type": "code",
   "execution_count": 118,
   "metadata": {
    "collapsed": false,
    "scrolled": true
   },
   "outputs": [
    {
     "data": {
      "text/plain": [
       "{'descriptions': [u'tackle - traduction anglais-fran\\xe7ais. Forums pour discuter de tackle, voir ses formes compos\\xe9es, des exemples et poser vos questions. Gratuit.',\n",
       "  u'De tr\\xe8s nombreux exemples de phrases traduites contenant \"tackle\" \\u2013 Dictionnaire fran\\xe7ais-anglais et moteur de recherche de traductions fran\\xe7aises.'],\n",
       " 'links': [u'http://www.wordreference.com/enfr/tackle',\n",
       "  u'http://www.linguee.fr/anglais-francais/traduction/tackle.html',\n",
       "  u'/search?tbs=simg:CAEStwIJ9fHXFjtm6Q0aqwILEKjU2AQaBAgACEIMCxCwjKcIGmIKYAgDEij_1GtMXkAW0EJQFsRH-GvwarxCyEK4rjS-BL6AljC_1RJIAvrSuDL48vGjDeILqZWOMHLM2Ow20S129yXoJw_1MS2Sn9CS0xD0XkGyAzC2LFDcsYKgTtMNDDKsYYgBAwLEI6u_1ggaCgoICAESBLTyFHsMCxCd7cEJGpYBChgKBnRhY2tsZdqliPYDCgoIL20vMDJ3ZzgKIAoMcnVnYnkgcGxheWVy2qWI9gMMCgovbS8wNTc0cmwyCh0KC3J1Z2J5IHVuaW9u2qWI9gMKCggvbS8wNmJyOAoZCgVnYW1lc9qliPYDDAoKL20vMDNidDFnaAoeCgxydWdieSBsZWFndWXapYj2AwoKCC9tLzA2ZjNsDA&q=tackle&tbm=isch&sa=X&ved=0ahUKEwiovubr-tbUAhWGOBoKHdjiAukQsw4INg'],\n",
       " 'similar_images': [u'http://media.gettyimages.com/photos/rudi-wulf-of-the-all-blacks-runs-through-the-tackle-of-george-stowers-picture-id82640659?s=612x612',\n",
       "  u'http://media.gettyimages.com/photos/new-zealands-andrew-hore-tackles-scotlands-richie-gray-during-the-picture-id156025800?s=612x612',\n",
       "  u'http://i3.mirror.co.uk/incoming/article9600367.ece/ALTERNATES/s615/PAY-Saracens-v-Exeter-Chiefs-070117.jpg',\n",
       "  u'http://media.gettyimages.com/photos/frances-david-marty-breaks-through-the-tackle-from-scotlands-rob-picture-id662255122?s=612x612',\n",
       "  u'http://media.gettyimages.com/photos/coastal-sharks-player-tendai-mtawarira-looks-to-fend-off-the-tackle-picture-id493263707?s=612x612',\n",
       "  u'http://media.gettyimages.com/photos/matt-moulds-of-the-blues-tries-to-break-the-tackle-of-elliot-dixon-of-picture-id666138218?s=612x612',\n",
       "  u'http://media.gettyimages.com/photos/mike-brown-of-england-evades-the-tackle-of-patricio-albacete-of-the-picture-id187455162?s=612x612',\n",
       "  u'http://media.gettyimages.com/photos/baths-gavin-thomas-bursts-through-the-challenges-of-newcastle-falcons-picture-id680962458?s=612x612',\n",
       "  u'http://media.gettyimages.com/photos/albert-vete-jacob-lillyman-and-siliva-havili-of-the-warriors-tackle-picture-id480475432?s=612x612',\n",
       "  u'http://media.gettyimages.com/photos/hong-kong-china-fijis-setefano-cakau-makes-a-tackle-on-scotlands-picture-id73753718?s=612x612'],\n",
       " 'titles': [u'tackle - English-French Dictionary WordReference.com',\n",
       "  u'tackle - Traduction fran\\xe7aise \\u2013 Linguee']}"
      ]
     },
     "execution_count": 118,
     "metadata": {},
     "output_type": "execute_result"
    }
   ],
   "source": [
    "out"
   ]
  },
  {
   "cell_type": "markdown",
   "metadata": {},
   "source": [
    "## Distance between same image holders"
   ]
  },
  {
   "cell_type": "code",
   "execution_count": 133,
   "metadata": {
    "collapsed": false
   },
   "outputs": [],
   "source": [
    "def dl_text(url):\n",
    "    html = urllib.urlopen(url).read()\n",
    "    soup = BeautifulSoup(html, 'html.parser')\n",
    "    texts = soup.findAll(text=True)\n",
    "    return texts\n",
    "\n",
    "def visible(element):\n",
    "    if element.parent.name in ['style', 'script', '[document]', 'head', 'title']:\n",
    "        return False\n",
    "    elif re.match('<!--.*-->', element):\n",
    "        return False\n",
    "    return True\n",
    "\n",
    "def get_main_txt(visible_texts,idx=None):\n",
    "    if idx:\n",
    "        size = [len(x) for x in visible_texts]\n",
    "        size_ = [x for x in size if x<max(size)]\n",
    "        max_idx=max(size_)\n",
    "        return visible_texts[size.index(max_idx)]\n",
    "    else:\n",
    "        size = [len(x) for x in visible_texts]\n",
    "        max_idx=max(size)\n",
    "        return visible_texts[size.index(max_idx)]\n",
    "\n"
   ]
  },
  {
   "cell_type": "code",
   "execution_count": 134,
   "metadata": {
    "collapsed": false
   },
   "outputs": [
    {
     "data": {
      "text/plain": [
       "u' Hundreds of thousands of people lost power as the storm swept eastward on Friday and Saturday, including 135,000 customers in West Virginia served by Appalachian Power, a division of American Electric Power. That company also reported 19,456 outages in Tennessee on Saturday afternoon, and its Kentucky division reported 69,400 in that state. Laura Southard, of Virginia\\u2019s Department of Emergency Management, said at least 71,000 were without power on Saturday afternoon. In parts of western North Carolina, where the storm struck Friday evening, more than 60,000 customers were without power on Saturday.'"
      ]
     },
     "execution_count": 134,
     "metadata": {},
     "output_type": "execute_result"
    }
   ],
   "source": [
    "html = urllib.urlopen('http://www.nytimes.com/2009/12/21/us/21storm.html').read()\n",
    "soup = BeautifulSoup(html, 'html.parser')\n",
    "texts = soup.findAll(text=True)\n",
    "visible_texts = filter(visible, texts)\n",
    "get_main_txt(visible_texts)"
   ]
  },
  {
   "cell_type": "code",
   "execution_count": 135,
   "metadata": {
    "collapsed": true
   },
   "outputs": [],
   "source": [
    "request_headers = {\n",
    "    \"Accept-Language\": \"en-US,en;q=0.5\",\n",
    "    \"User-Agent\": \"Mozilla/5.0 (Windows NT 10.0; WOW64; rv:40.0) Gecko/20100101 Firefox/40.0\",\n",
    "    #\"Connection\": \"keep-alive\" \n",
    "    }"
   ]
  },
  {
   "cell_type": "code",
   "execution_count": 136,
   "metadata": {
    "collapsed": false,
    "scrolled": false
   },
   "outputs": [
    {
     "name": "stdout",
     "output_type": "stream",
     "text": [
      "[if lt IE 8]>\n",
      "<style type=\"text/css\">\n",
      "#search{height:50px;border-bottom:0 none;}\n",
      "#forumapi{display:none;}\n",
      "#si{line-height:30px;} \n",
      "#text_form input.button{bottom:-1px;}\n",
      ".inputcontainer{height:29px;margin-left:2px;}\n",
      ".content{z-index:0;margin-top:0px}\n",
      "/* for audio links disrupting AComplete*/\n",
      "#listen_widget{display:block;width:151px;}\n",
      ".listen_language, #listen_txt{position:static}\n",
      "#left, #rsinfo {margin-left:0;padding-left:0;}\n",
      "#left ul {margin-left:0;}\n",
      "body{line-height:normal !important;}\n",
      "</style>\n",
      "<![endif]\n",
      "#______________________________#\n",
      "\n",
      "La plupart d'entre nous sommes parfois distraits par d'autres questions, mais le dommage qui continue d'être infligé à la planète nous signale impérieusement qu'il faut agir pour faire une différence et qu'il faut collaborer pour élaborer des stratégies qui permettront de lutter contre les changements climatiques. \n",
      "#______________________________#\n"
     ]
    }
   ],
   "source": [
    "input_list=[]\n",
    "\n",
    "for element in out['links'][0:]:\n",
    "    try:\n",
    "        if \"htt\" in element:\n",
    "            url = \"htt\"+\"\".join(element.split(\"htt\")[1:])\n",
    "            request = urllib2.Request(url, headers=request_headers)\n",
    "            html = urllib2.urlopen(request).read()\n",
    "            #html = urllib.urlopen(url).read()\n",
    "            soup = BeautifulSoup(html, 'html.parser')\n",
    "            texts = soup.findAll(text=True)\n",
    "            visible_texts = filter(visible, texts)\n",
    "            #print(get_main_txt(visible_texts))\n",
    "            #print(visible_texts)\n",
    "            main_txt=get_main_txt(visible_texts)\n",
    "            if \"[endif]\" in main_txt:\n",
    "                #main_txt=get_main_txt(visible_texts,idx=1)\n",
    "                #print(main_txt)\n",
    "                input_list.append(main_txt)\n",
    "                print(\"#______________________________#\")\n",
    "            else:\n",
    "                print(main_txt)\n",
    "                input_list.append(main_txt)\n",
    "                print(\"#______________________________#\")\n",
    "    except Exception as e:\n",
    "        print(url)\n",
    "        print(e)\n",
    "    "
   ]
  },
  {
   "cell_type": "code",
   "execution_count": 128,
   "metadata": {
    "collapsed": false
   },
   "outputs": [
    {
     "name": "stdout",
     "output_type": "stream",
     "text": [
      "http://www.wordreference.com/enfr/tackle\n",
      "http://www.linguee.fr/anglais-francais/traduction/tackle.html\n",
      "/search?tbs=simg:CAEStwIJ9fHXFjtm6Q0aqwILEKjU2AQaBAgACEIMCxCwjKcIGmIKYAgDEij_1GtMXkAW0EJQFsRH-GvwarxCyEK4rjS-BL6AljC_1RJIAvrSuDL48vGjDeILqZWOMHLM2Ow20S129yXoJw_1MS2Sn9CS0xD0XkGyAzC2LFDcsYKgTtMNDDKsYYgBAwLEI6u_1ggaCgoICAESBLTyFHsMCxCd7cEJGpYBChgKBnRhY2tsZdqliPYDCgoIL20vMDJ3ZzgKIAoMcnVnYnkgcGxheWVy2qWI9gMMCgovbS8wNTc0cmwyCh0KC3J1Z2J5IHVuaW9u2qWI9gMKCggvbS8wNmJyOAoZCgVnYW1lc9qliPYDDAoKL20vMDNidDFnaAoeCgxydWdieSBsZWFndWXapYj2AwoKCC9tLzA2ZjNsDA&q=tackle&tbm=isch&sa=X&ved=0ahUKEwiovubr-tbUAhWGOBoKHdjiAukQsw4INg\n"
     ]
    }
   ],
   "source": [
    "for element in out['links'][0:]:\n",
    "    print element"
   ]
  },
  {
   "cell_type": "code",
   "execution_count": 131,
   "metadata": {
    "collapsed": false
   },
   "outputs": [
    {
     "data": {
      "text/plain": [
       "[u\"\\r\\nLa plupart d'entre nous sommes parfois distraits par d'autres questions, mais le dommage qui continue d'\\xeatre inflig\\xe9 \\xe0 la plan\\xe8te nous signale imp\\xe9rieusement qu'il faut agir pour faire une diff\\xe9rence et qu'il faut collaborer pour \\xe9laborer des strat\\xe9gies qui permettront de lutter contre les changements climatiques. \"]"
      ]
     },
     "execution_count": 131,
     "metadata": {},
     "output_type": "execute_result"
    }
   ],
   "source": [
    "input_list"
   ]
  },
  {
   "cell_type": "markdown",
   "metadata": {},
   "source": [
    "----------------"
   ]
  },
  {
   "cell_type": "markdown",
   "metadata": {},
   "source": [
    "- ## Image crawler"
   ]
  },
  {
   "cell_type": "code",
   "execution_count": 160,
   "metadata": {
    "collapsed": false
   },
   "outputs": [],
   "source": [
    "def find_all_img(url):\n",
    "    test_url = url\n",
    "    request = urllib2.Request(test_url)\n",
    "    page = urllib2.urlopen(request).read()\n",
    "    soup = BeautifulSoup(page,\"html.parser\")\n",
    "    links = soup.findAll('img')\n",
    "    links = [tag['src'] for tag in links if \".jpg\" in tag['src'].lower()]\n",
    "    return links \n",
    "\n",
    "\n",
    "def get_biggest_imgs(links):\n",
    "    keep=[]\n",
    "    for element in links:\n",
    "        file = cStringIO.StringIO(urllib.urlopen(element).read())\n",
    "        img = Image.open(file)\n",
    "        keep.append(img.size[0]*img.size[1])\n",
    "    df = pd.DataFrame()\n",
    "    df[\"url\"]=links\n",
    "    df[\"size\"]=keep\n",
    "    df = df.sort_values(\"size\",ascending=False)\n",
    "    return df[\"url\"][0:3]"
   ]
  },
  {
   "cell_type": "code",
   "execution_count": 150,
   "metadata": {
    "collapsed": false,
    "scrolled": false
   },
   "outputs": [],
   "source": [
    "test_url = \"http://www.lefigaro.fr/sciences/2017/06/24/01008-20170624ARTFIG00137-emmanuel-macron-proposera-un-pacte-pour-l-environnement-a-l-onu.php\"\n",
    "test = find_all_img(test_url)"
   ]
  },
  {
   "cell_type": "code",
   "execution_count": 151,
   "metadata": {
    "collapsed": false
   },
   "outputs": [
    {
     "data": {
      "text/plain": [
       "[u'http://i.f1g.fr/media/figaro/805x453_crop/2017/06/24/XVMf342a5e8-58fe-11e7-9bb8-f4ad8e4a4fd1.jpg',\n",
       " u'http://i.f1g.fr/media/ext/55x55/plus.lefigaro.fr/sites/default/files/imagecache/Petite/images/avatar-journalistes-defaut.jpg',\n",
       " u'http://i.f1g.fr/media/ext/101x67_crop/i.f1g.fr/media/ext/1900x1900/madame.lefigaro.fr/sites/default/files/img/2017/06/brigitte-liso_0.jpg',\n",
       " u'http://i.f1g.fr/media/ext/101x67_crop/i.f1g.fr/media/figaro/805x453_crop/2017/06/23/XVM74cea3b2-582f-11e7-b986-7656cb6ba5ab.jpg',\n",
       " u'http://a.f1g.fr/assets-img/footer-carrousel/Cplussur.jpg?bd4e386c627c10684978ebe0f0f6cccb1ad25103',\n",
       " u'http://a.f1g.fr/assets-img/footer-carrousel/epresse.jpg?bd4e386c627c10684978ebe0f0f6cccb1ad25103',\n",
       " u'http://a.f1g.fr/assets-img/footer-carrousel/Immo.jpg?bd4e386c627c10684978ebe0f0f6cccb1ad25103',\n",
       " u'http://a.f1g.fr/assets-img/footer-carrousel/Newsletters.jpg?bd4e386c627c10684978ebe0f0f6cccb1ad25103',\n",
       " u'http://a.f1g.fr/assets-img/footer-carrousel/Lachainemeteo.jpg?bd4e386c627c10684978ebe0f0f6cccb1ad25103',\n",
       " u'http://a.f1g.fr/assets-img/footer-carrousel/Emploi.jpg?bd4e386c627c10684978ebe0f0f6cccb1ad25103',\n",
       " u'http://a.f1g.fr/assets-img/footer-carrousel/Vin.jpg?bd4e386c627c10684978ebe0f0f6cccb1ad25103',\n",
       " u'http://a.f1g.fr/assets-img/footer-carrousel/Recettesmadame.jpg?bd4e386c627c10684978ebe0f0f6cccb1ad25103',\n",
       " u'http://a.f1g.fr/assets-img/footer-carrousel/Babbel.jpg?bd4e386c627c10684978ebe0f0f6cccb1ad25103']"
      ]
     },
     "execution_count": 151,
     "metadata": {},
     "output_type": "execute_result"
    }
   ],
   "source": [
    "test"
   ]
  },
  {
   "cell_type": "code",
   "execution_count": null,
   "metadata": {
    "collapsed": false
   },
   "outputs": [],
   "source": [
    "get_biggest_imgs(test)"
   ]
  },
  {
   "cell_type": "markdown",
   "metadata": {},
   "source": [
    "## Forged image detection"
   ]
  },
  {
   "cell_type": "raw",
   "metadata": {},
   "source": [
    "Messagerie\n",
    "￼Rédiger un message ￼Touchez pour ouvrir les préférences popup  ￼Ouvrir la liste des discussions\n",
    "￼\n",
    "￼\n",
    "￼\n",
    "Université Paris Dauphine\n",
    "Paris, île-de-france  Anciens élèves de l’école + de 73 073 anciens élèves  Abonnés à l’école 87 285 abonnés \n",
    "\n",
    "￼\n",
    "1 personne de votre école a été engagée ici. Voir les 178 employés sur LinkedIn \n",
    "img=mpimg.imread(test_url)\n",
    "hist=plt.hist(img.ravel(),bins=256, range=(0.0, 1.0), fc='k', ec='k')"
   ]
  },
  {
   "cell_type": "code",
   "execution_count": null,
   "metadata": {
    "collapsed": true
   },
   "outputs": [],
   "source": []
  },
  {
   "cell_type": "code",
   "execution_count": null,
   "metadata": {
    "collapsed": true
   },
   "outputs": [],
   "source": []
  },
  {
   "cell_type": "markdown",
   "metadata": {},
   "source": [
    "## NEC API"
   ]
  },
  {
   "cell_type": "markdown",
   "metadata": {},
   "source": [
    "- ## Jack shit"
   ]
  },
  {
   "cell_type": "code",
   "execution_count": 126,
   "metadata": {
    "collapsed": false
   },
   "outputs": [
    {
     "name": "stdout",
     "output_type": "stream",
     "text": [
      "<!DOCTYPE HTML PUBLIC \"-//W3C//DTD HTML 3.2 Final//EN\">\n",
      "<title>500 Internal Server Error</title>\n",
      "<h1>Internal Server Error</h1>\n",
      "<p>The server encountered an internal error and was unable to complete your request.  Either the server is overloaded or there is an error in the application.</p>\n",
      "\n"
     ]
    }
   ],
   "source": [
    "import sys\n",
    "import requests\n",
    "import json\n",
    "\n",
    "gid=1032\n",
    "\n",
    "\n",
    "# Post Search Request\n",
    "files = {'image': open(directory+'test.jpg', \"rb\")}\n",
    "url = \"https://www3.arche.blue/mvp5/v1/%d/search\" % gid\n",
    "res = requests.post(url, files = files)\n",
    "\n",
    "# Get Response\n",
    "if res.status_code == 200:\n",
    "    print json.dumps(res.json(), indent=4)\n",
    "else:\n",
    "    print res.text"
   ]
  },
  {
   "cell_type": "code",
   "execution_count": null,
   "metadata": {
    "collapsed": true
   },
   "outputs": [],
   "source": []
  }
 ],
 "metadata": {
  "kernelspec": {
   "display_name": "Python 2",
   "language": "python",
   "name": "python2"
  },
  "language_info": {
   "codemirror_mode": {
    "name": "ipython",
    "version": 2
   },
   "file_extension": ".py",
   "mimetype": "text/x-python",
   "name": "python",
   "nbconvert_exporter": "python",
   "pygments_lexer": "ipython2",
   "version": "2.7.13"
  }
 },
 "nbformat": 4,
 "nbformat_minor": 2
}
